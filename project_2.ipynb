{
 "cells": [
  {
   "cell_type": "code",
   "execution_count": 1,
   "id": "88f77bbf-f467-4616-83f0-6aa0818f1fec",
   "metadata": {},
   "outputs": [],
   "source": [
    "#Took from lesson 3.05-lesson-feature-engineering\n",
    "import pandas as pd \n",
    "import numpy as np\n",
    "import seaborn as sns\n",
    "import matplotlib.pyplot as plt\n",
    "from sklearn.model_selection import train_test_split, cross_val_score\n",
    "from sklearn.linear_model import LinearRegression\n",
    "from sklearn.preprocessing import StandardScaler, PolynomialFeatures\n",
    "from sklearn import metrics\n",
    "%matplotlib inline"
   ]
  },
  {
   "cell_type": "code",
   "execution_count": 2,
   "id": "dc75b4df-fa2e-485b-9e8a-f6f19f0ab715",
   "metadata": {},
   "outputs": [
    {
     "data": {
      "text/html": [
       "<div>\n",
       "<style scoped>\n",
       "    .dataframe tbody tr th:only-of-type {\n",
       "        vertical-align: middle;\n",
       "    }\n",
       "\n",
       "    .dataframe tbody tr th {\n",
       "        vertical-align: top;\n",
       "    }\n",
       "\n",
       "    .dataframe thead th {\n",
       "        text-align: right;\n",
       "    }\n",
       "</style>\n",
       "<table border=\"1\" class=\"dataframe\">\n",
       "  <thead>\n",
       "    <tr style=\"text-align: right;\">\n",
       "      <th></th>\n",
       "      <th>Id</th>\n",
       "      <th>PID</th>\n",
       "      <th>MS SubClass</th>\n",
       "      <th>MS Zoning</th>\n",
       "      <th>Lot Frontage</th>\n",
       "      <th>Lot Area</th>\n",
       "      <th>Street</th>\n",
       "      <th>Alley</th>\n",
       "      <th>Lot Shape</th>\n",
       "      <th>Land Contour</th>\n",
       "      <th>...</th>\n",
       "      <th>3Ssn Porch</th>\n",
       "      <th>Screen Porch</th>\n",
       "      <th>Pool Area</th>\n",
       "      <th>Pool QC</th>\n",
       "      <th>Fence</th>\n",
       "      <th>Misc Feature</th>\n",
       "      <th>Misc Val</th>\n",
       "      <th>Mo Sold</th>\n",
       "      <th>Yr Sold</th>\n",
       "      <th>Sale Type</th>\n",
       "    </tr>\n",
       "  </thead>\n",
       "  <tbody>\n",
       "    <tr>\n",
       "      <th>0</th>\n",
       "      <td>2658</td>\n",
       "      <td>902301120</td>\n",
       "      <td>190</td>\n",
       "      <td>RM</td>\n",
       "      <td>69.0</td>\n",
       "      <td>9142</td>\n",
       "      <td>Pave</td>\n",
       "      <td>Grvl</td>\n",
       "      <td>Reg</td>\n",
       "      <td>Lvl</td>\n",
       "      <td>...</td>\n",
       "      <td>0</td>\n",
       "      <td>0</td>\n",
       "      <td>0</td>\n",
       "      <td>NaN</td>\n",
       "      <td>NaN</td>\n",
       "      <td>NaN</td>\n",
       "      <td>0</td>\n",
       "      <td>4</td>\n",
       "      <td>2006</td>\n",
       "      <td>WD</td>\n",
       "    </tr>\n",
       "    <tr>\n",
       "      <th>1</th>\n",
       "      <td>2718</td>\n",
       "      <td>905108090</td>\n",
       "      <td>90</td>\n",
       "      <td>RL</td>\n",
       "      <td>NaN</td>\n",
       "      <td>9662</td>\n",
       "      <td>Pave</td>\n",
       "      <td>NaN</td>\n",
       "      <td>IR1</td>\n",
       "      <td>Lvl</td>\n",
       "      <td>...</td>\n",
       "      <td>0</td>\n",
       "      <td>0</td>\n",
       "      <td>0</td>\n",
       "      <td>NaN</td>\n",
       "      <td>NaN</td>\n",
       "      <td>NaN</td>\n",
       "      <td>0</td>\n",
       "      <td>8</td>\n",
       "      <td>2006</td>\n",
       "      <td>WD</td>\n",
       "    </tr>\n",
       "    <tr>\n",
       "      <th>2</th>\n",
       "      <td>2414</td>\n",
       "      <td>528218130</td>\n",
       "      <td>60</td>\n",
       "      <td>RL</td>\n",
       "      <td>58.0</td>\n",
       "      <td>17104</td>\n",
       "      <td>Pave</td>\n",
       "      <td>NaN</td>\n",
       "      <td>IR1</td>\n",
       "      <td>Lvl</td>\n",
       "      <td>...</td>\n",
       "      <td>0</td>\n",
       "      <td>0</td>\n",
       "      <td>0</td>\n",
       "      <td>NaN</td>\n",
       "      <td>NaN</td>\n",
       "      <td>NaN</td>\n",
       "      <td>0</td>\n",
       "      <td>9</td>\n",
       "      <td>2006</td>\n",
       "      <td>New</td>\n",
       "    </tr>\n",
       "    <tr>\n",
       "      <th>3</th>\n",
       "      <td>1989</td>\n",
       "      <td>902207150</td>\n",
       "      <td>30</td>\n",
       "      <td>RM</td>\n",
       "      <td>60.0</td>\n",
       "      <td>8520</td>\n",
       "      <td>Pave</td>\n",
       "      <td>NaN</td>\n",
       "      <td>Reg</td>\n",
       "      <td>Lvl</td>\n",
       "      <td>...</td>\n",
       "      <td>0</td>\n",
       "      <td>0</td>\n",
       "      <td>0</td>\n",
       "      <td>NaN</td>\n",
       "      <td>NaN</td>\n",
       "      <td>NaN</td>\n",
       "      <td>0</td>\n",
       "      <td>7</td>\n",
       "      <td>2007</td>\n",
       "      <td>WD</td>\n",
       "    </tr>\n",
       "    <tr>\n",
       "      <th>4</th>\n",
       "      <td>625</td>\n",
       "      <td>535105100</td>\n",
       "      <td>20</td>\n",
       "      <td>RL</td>\n",
       "      <td>NaN</td>\n",
       "      <td>9500</td>\n",
       "      <td>Pave</td>\n",
       "      <td>NaN</td>\n",
       "      <td>IR1</td>\n",
       "      <td>Lvl</td>\n",
       "      <td>...</td>\n",
       "      <td>0</td>\n",
       "      <td>185</td>\n",
       "      <td>0</td>\n",
       "      <td>NaN</td>\n",
       "      <td>NaN</td>\n",
       "      <td>NaN</td>\n",
       "      <td>0</td>\n",
       "      <td>7</td>\n",
       "      <td>2009</td>\n",
       "      <td>WD</td>\n",
       "    </tr>\n",
       "  </tbody>\n",
       "</table>\n",
       "<p>5 rows × 80 columns</p>\n",
       "</div>"
      ],
      "text/plain": [
       "     Id        PID  MS SubClass MS Zoning  Lot Frontage  Lot Area Street  \\\n",
       "0  2658  902301120          190        RM          69.0      9142   Pave   \n",
       "1  2718  905108090           90        RL           NaN      9662   Pave   \n",
       "2  2414  528218130           60        RL          58.0     17104   Pave   \n",
       "3  1989  902207150           30        RM          60.0      8520   Pave   \n",
       "4   625  535105100           20        RL           NaN      9500   Pave   \n",
       "\n",
       "  Alley Lot Shape Land Contour  ... 3Ssn Porch Screen Porch Pool Area Pool QC  \\\n",
       "0  Grvl       Reg          Lvl  ...          0            0         0     NaN   \n",
       "1   NaN       IR1          Lvl  ...          0            0         0     NaN   \n",
       "2   NaN       IR1          Lvl  ...          0            0         0     NaN   \n",
       "3   NaN       Reg          Lvl  ...          0            0         0     NaN   \n",
       "4   NaN       IR1          Lvl  ...          0          185         0     NaN   \n",
       "\n",
       "  Fence Misc Feature Misc Val Mo Sold  Yr Sold  Sale Type  \n",
       "0   NaN          NaN        0       4     2006        WD   \n",
       "1   NaN          NaN        0       8     2006        WD   \n",
       "2   NaN          NaN        0       9     2006        New  \n",
       "3   NaN          NaN        0       7     2007        WD   \n",
       "4   NaN          NaN        0       7     2009        WD   \n",
       "\n",
       "[5 rows x 80 columns]"
      ]
     },
     "execution_count": 2,
     "metadata": {},
     "output_type": "execute_result"
    }
   ],
   "source": [
    "home_test = pd.read_csv('datasets/test.csv')\n",
    "home_test.head()"
   ]
  },
  {
   "cell_type": "code",
   "execution_count": 3,
   "id": "990eb927-675d-4b29-8c85-5c6183505cce",
   "metadata": {},
   "outputs": [
    {
     "data": {
      "text/html": [
       "<div>\n",
       "<style scoped>\n",
       "    .dataframe tbody tr th:only-of-type {\n",
       "        vertical-align: middle;\n",
       "    }\n",
       "\n",
       "    .dataframe tbody tr th {\n",
       "        vertical-align: top;\n",
       "    }\n",
       "\n",
       "    .dataframe thead th {\n",
       "        text-align: right;\n",
       "    }\n",
       "</style>\n",
       "<table border=\"1\" class=\"dataframe\">\n",
       "  <thead>\n",
       "    <tr style=\"text-align: right;\">\n",
       "      <th></th>\n",
       "      <th>Id</th>\n",
       "      <th>PID</th>\n",
       "      <th>MS SubClass</th>\n",
       "      <th>MS Zoning</th>\n",
       "      <th>Lot Frontage</th>\n",
       "      <th>Lot Area</th>\n",
       "      <th>Street</th>\n",
       "      <th>Alley</th>\n",
       "      <th>Lot Shape</th>\n",
       "      <th>Land Contour</th>\n",
       "      <th>...</th>\n",
       "      <th>Screen Porch</th>\n",
       "      <th>Pool Area</th>\n",
       "      <th>Pool QC</th>\n",
       "      <th>Fence</th>\n",
       "      <th>Misc Feature</th>\n",
       "      <th>Misc Val</th>\n",
       "      <th>Mo Sold</th>\n",
       "      <th>Yr Sold</th>\n",
       "      <th>Sale Type</th>\n",
       "      <th>SalePrice</th>\n",
       "    </tr>\n",
       "  </thead>\n",
       "  <tbody>\n",
       "    <tr>\n",
       "      <th>0</th>\n",
       "      <td>109</td>\n",
       "      <td>533352170</td>\n",
       "      <td>60</td>\n",
       "      <td>RL</td>\n",
       "      <td>NaN</td>\n",
       "      <td>13517</td>\n",
       "      <td>Pave</td>\n",
       "      <td>NaN</td>\n",
       "      <td>IR1</td>\n",
       "      <td>Lvl</td>\n",
       "      <td>...</td>\n",
       "      <td>0</td>\n",
       "      <td>0</td>\n",
       "      <td>NaN</td>\n",
       "      <td>NaN</td>\n",
       "      <td>NaN</td>\n",
       "      <td>0</td>\n",
       "      <td>3</td>\n",
       "      <td>2010</td>\n",
       "      <td>WD</td>\n",
       "      <td>130500</td>\n",
       "    </tr>\n",
       "    <tr>\n",
       "      <th>1</th>\n",
       "      <td>544</td>\n",
       "      <td>531379050</td>\n",
       "      <td>60</td>\n",
       "      <td>RL</td>\n",
       "      <td>43.0</td>\n",
       "      <td>11492</td>\n",
       "      <td>Pave</td>\n",
       "      <td>NaN</td>\n",
       "      <td>IR1</td>\n",
       "      <td>Lvl</td>\n",
       "      <td>...</td>\n",
       "      <td>0</td>\n",
       "      <td>0</td>\n",
       "      <td>NaN</td>\n",
       "      <td>NaN</td>\n",
       "      <td>NaN</td>\n",
       "      <td>0</td>\n",
       "      <td>4</td>\n",
       "      <td>2009</td>\n",
       "      <td>WD</td>\n",
       "      <td>220000</td>\n",
       "    </tr>\n",
       "    <tr>\n",
       "      <th>2</th>\n",
       "      <td>153</td>\n",
       "      <td>535304180</td>\n",
       "      <td>20</td>\n",
       "      <td>RL</td>\n",
       "      <td>68.0</td>\n",
       "      <td>7922</td>\n",
       "      <td>Pave</td>\n",
       "      <td>NaN</td>\n",
       "      <td>Reg</td>\n",
       "      <td>Lvl</td>\n",
       "      <td>...</td>\n",
       "      <td>0</td>\n",
       "      <td>0</td>\n",
       "      <td>NaN</td>\n",
       "      <td>NaN</td>\n",
       "      <td>NaN</td>\n",
       "      <td>0</td>\n",
       "      <td>1</td>\n",
       "      <td>2010</td>\n",
       "      <td>WD</td>\n",
       "      <td>109000</td>\n",
       "    </tr>\n",
       "    <tr>\n",
       "      <th>3</th>\n",
       "      <td>318</td>\n",
       "      <td>916386060</td>\n",
       "      <td>60</td>\n",
       "      <td>RL</td>\n",
       "      <td>73.0</td>\n",
       "      <td>9802</td>\n",
       "      <td>Pave</td>\n",
       "      <td>NaN</td>\n",
       "      <td>Reg</td>\n",
       "      <td>Lvl</td>\n",
       "      <td>...</td>\n",
       "      <td>0</td>\n",
       "      <td>0</td>\n",
       "      <td>NaN</td>\n",
       "      <td>NaN</td>\n",
       "      <td>NaN</td>\n",
       "      <td>0</td>\n",
       "      <td>4</td>\n",
       "      <td>2010</td>\n",
       "      <td>WD</td>\n",
       "      <td>174000</td>\n",
       "    </tr>\n",
       "    <tr>\n",
       "      <th>4</th>\n",
       "      <td>255</td>\n",
       "      <td>906425045</td>\n",
       "      <td>50</td>\n",
       "      <td>RL</td>\n",
       "      <td>82.0</td>\n",
       "      <td>14235</td>\n",
       "      <td>Pave</td>\n",
       "      <td>NaN</td>\n",
       "      <td>IR1</td>\n",
       "      <td>Lvl</td>\n",
       "      <td>...</td>\n",
       "      <td>0</td>\n",
       "      <td>0</td>\n",
       "      <td>NaN</td>\n",
       "      <td>NaN</td>\n",
       "      <td>NaN</td>\n",
       "      <td>0</td>\n",
       "      <td>3</td>\n",
       "      <td>2010</td>\n",
       "      <td>WD</td>\n",
       "      <td>138500</td>\n",
       "    </tr>\n",
       "  </tbody>\n",
       "</table>\n",
       "<p>5 rows × 81 columns</p>\n",
       "</div>"
      ],
      "text/plain": [
       "    Id        PID  MS SubClass MS Zoning  Lot Frontage  Lot Area Street Alley  \\\n",
       "0  109  533352170           60        RL           NaN     13517   Pave   NaN   \n",
       "1  544  531379050           60        RL          43.0     11492   Pave   NaN   \n",
       "2  153  535304180           20        RL          68.0      7922   Pave   NaN   \n",
       "3  318  916386060           60        RL          73.0      9802   Pave   NaN   \n",
       "4  255  906425045           50        RL          82.0     14235   Pave   NaN   \n",
       "\n",
       "  Lot Shape Land Contour  ... Screen Porch Pool Area Pool QC Fence  \\\n",
       "0       IR1          Lvl  ...            0         0     NaN   NaN   \n",
       "1       IR1          Lvl  ...            0         0     NaN   NaN   \n",
       "2       Reg          Lvl  ...            0         0     NaN   NaN   \n",
       "3       Reg          Lvl  ...            0         0     NaN   NaN   \n",
       "4       IR1          Lvl  ...            0         0     NaN   NaN   \n",
       "\n",
       "  Misc Feature Misc Val Mo Sold Yr Sold  Sale Type  SalePrice  \n",
       "0          NaN        0       3    2010        WD      130500  \n",
       "1          NaN        0       4    2009        WD      220000  \n",
       "2          NaN        0       1    2010        WD      109000  \n",
       "3          NaN        0       4    2010        WD      174000  \n",
       "4          NaN        0       3    2010        WD      138500  \n",
       "\n",
       "[5 rows x 81 columns]"
      ]
     },
     "execution_count": 3,
     "metadata": {},
     "output_type": "execute_result"
    }
   ],
   "source": [
    "home_train = pd.read_csv('datasets/train.csv')\n",
    "home_train.head()"
   ]
  },
  {
   "cell_type": "markdown",
   "id": "c46ab1a7-bab7-4082-b3e1-9d51faa3394b",
   "metadata": {},
   "source": [
    "We can already see that there are some issues with some of our columns. Some have NaN values. Let's see how many"
   ]
  },
  {
   "cell_type": "code",
   "execution_count": 4,
   "id": "0adcfff2-b30d-455f-a635-de47eecbb13a",
   "metadata": {},
   "outputs": [],
   "source": [
    "pd.set_option('display.max_rows', None)"
   ]
  },
  {
   "cell_type": "code",
   "execution_count": 5,
   "id": "d34b354a-16d2-4b61-b9d4-2936da651051",
   "metadata": {
    "scrolled": true,
    "tags": []
   },
   "outputs": [
    {
     "data": {
      "text/plain": [
       "Id                    0\n",
       "PID                   0\n",
       "MS SubClass           0\n",
       "MS Zoning             0\n",
       "Lot Frontage        330\n",
       "Lot Area              0\n",
       "Street                0\n",
       "Alley              1911\n",
       "Lot Shape             0\n",
       "Land Contour          0\n",
       "Utilities             0\n",
       "Lot Config            0\n",
       "Land Slope            0\n",
       "Neighborhood          0\n",
       "Condition 1           0\n",
       "Condition 2           0\n",
       "Bldg Type             0\n",
       "House Style           0\n",
       "Overall Qual          0\n",
       "Overall Cond          0\n",
       "Year Built            0\n",
       "Year Remod/Add        0\n",
       "Roof Style            0\n",
       "Roof Matl             0\n",
       "Exterior 1st          0\n",
       "Exterior 2nd          0\n",
       "Mas Vnr Type         22\n",
       "Mas Vnr Area         22\n",
       "Exter Qual            0\n",
       "Exter Cond            0\n",
       "Foundation            0\n",
       "Bsmt Qual            55\n",
       "Bsmt Cond            55\n",
       "Bsmt Exposure        58\n",
       "BsmtFin Type 1       55\n",
       "BsmtFin SF 1          1\n",
       "BsmtFin Type 2       56\n",
       "BsmtFin SF 2          1\n",
       "Bsmt Unf SF           1\n",
       "Total Bsmt SF         1\n",
       "Heating               0\n",
       "Heating QC            0\n",
       "Central Air           0\n",
       "Electrical            0\n",
       "1st Flr SF            0\n",
       "2nd Flr SF            0\n",
       "Low Qual Fin SF       0\n",
       "Gr Liv Area           0\n",
       "Bsmt Full Bath        2\n",
       "Bsmt Half Bath        2\n",
       "Full Bath             0\n",
       "Half Bath             0\n",
       "Bedroom AbvGr         0\n",
       "Kitchen AbvGr         0\n",
       "Kitchen Qual          0\n",
       "TotRms AbvGrd         0\n",
       "Functional            0\n",
       "Fireplaces            0\n",
       "Fireplace Qu       1000\n",
       "Garage Type         113\n",
       "Garage Yr Blt       114\n",
       "Garage Finish       114\n",
       "Garage Cars           1\n",
       "Garage Area           1\n",
       "Garage Qual         114\n",
       "Garage Cond         114\n",
       "Paved Drive           0\n",
       "Wood Deck SF          0\n",
       "Open Porch SF         0\n",
       "Enclosed Porch        0\n",
       "3Ssn Porch            0\n",
       "Screen Porch          0\n",
       "Pool Area             0\n",
       "Pool QC            2042\n",
       "Fence              1651\n",
       "Misc Feature       1986\n",
       "Misc Val              0\n",
       "Mo Sold               0\n",
       "Yr Sold               0\n",
       "Sale Type             0\n",
       "SalePrice             0\n",
       "dtype: int64"
      ]
     },
     "execution_count": 5,
     "metadata": {},
     "output_type": "execute_result"
    }
   ],
   "source": [
    "home_train.isnull().sum()"
   ]
  },
  {
   "cell_type": "markdown",
   "id": "34df5ce4-79dd-45cf-bd4f-22dc5b1cc2d5",
   "metadata": {},
   "source": [
    "That is a lot of null values. Too many to just dropna. We can see that there is a cut off at around 50. So let's make a function that deletes columns that have a isnull value of 50 or higher. The rest we will dropna"
   ]
  },
  {
   "cell_type": "code",
   "execution_count": 6,
   "id": "b7d664d4-7b15-4f4c-8fe0-f254d62e31a5",
   "metadata": {
    "scrolled": true,
    "tags": []
   },
   "outputs": [
    {
     "data": {
      "text/plain": [
       "['Id',\n",
       " 'PID',\n",
       " 'MS SubClass',\n",
       " 'MS Zoning',\n",
       " 'Lot Frontage',\n",
       " 'Lot Area',\n",
       " 'Street',\n",
       " 'Alley',\n",
       " 'Lot Shape',\n",
       " 'Land Contour',\n",
       " 'Utilities',\n",
       " 'Lot Config',\n",
       " 'Land Slope',\n",
       " 'Neighborhood',\n",
       " 'Condition 1',\n",
       " 'Condition 2',\n",
       " 'Bldg Type',\n",
       " 'House Style',\n",
       " 'Overall Qual',\n",
       " 'Overall Cond',\n",
       " 'Year Built',\n",
       " 'Year Remod/Add',\n",
       " 'Roof Style',\n",
       " 'Roof Matl',\n",
       " 'Exterior 1st',\n",
       " 'Exterior 2nd',\n",
       " 'Mas Vnr Type',\n",
       " 'Mas Vnr Area',\n",
       " 'Exter Qual',\n",
       " 'Exter Cond',\n",
       " 'Foundation',\n",
       " 'Bsmt Qual',\n",
       " 'Bsmt Cond',\n",
       " 'Bsmt Exposure',\n",
       " 'BsmtFin Type 1',\n",
       " 'BsmtFin SF 1',\n",
       " 'BsmtFin Type 2',\n",
       " 'BsmtFin SF 2',\n",
       " 'Bsmt Unf SF',\n",
       " 'Total Bsmt SF',\n",
       " 'Heating',\n",
       " 'Heating QC',\n",
       " 'Central Air',\n",
       " 'Electrical',\n",
       " '1st Flr SF',\n",
       " '2nd Flr SF',\n",
       " 'Low Qual Fin SF',\n",
       " 'Gr Liv Area',\n",
       " 'Bsmt Full Bath',\n",
       " 'Bsmt Half Bath',\n",
       " 'Full Bath',\n",
       " 'Half Bath',\n",
       " 'Bedroom AbvGr',\n",
       " 'Kitchen AbvGr',\n",
       " 'Kitchen Qual',\n",
       " 'TotRms AbvGrd',\n",
       " 'Functional',\n",
       " 'Fireplaces',\n",
       " 'Fireplace Qu',\n",
       " 'Garage Type',\n",
       " 'Garage Yr Blt',\n",
       " 'Garage Finish',\n",
       " 'Garage Cars',\n",
       " 'Garage Area',\n",
       " 'Garage Qual',\n",
       " 'Garage Cond',\n",
       " 'Paved Drive',\n",
       " 'Wood Deck SF',\n",
       " 'Open Porch SF',\n",
       " 'Enclosed Porch',\n",
       " '3Ssn Porch',\n",
       " 'Screen Porch',\n",
       " 'Pool Area',\n",
       " 'Pool QC',\n",
       " 'Fence',\n",
       " 'Misc Feature',\n",
       " 'Misc Val',\n",
       " 'Mo Sold',\n",
       " 'Yr Sold',\n",
       " 'Sale Type',\n",
       " 'SalePrice']"
      ]
     },
     "execution_count": 6,
     "metadata": {},
     "output_type": "execute_result"
    }
   ],
   "source": [
    "home_cols = [n for n in home_train.columns]\n",
    "home_cols"
   ]
  },
  {
   "cell_type": "code",
   "execution_count": 7,
   "id": "0b142b93-622b-4ec2-a450-846f40768868",
   "metadata": {},
   "outputs": [
    {
     "data": {
      "text/plain": [
       "['Lot Frontage',\n",
       " 'Alley',\n",
       " 'Bsmt Qual',\n",
       " 'Bsmt Cond',\n",
       " 'Bsmt Exposure',\n",
       " 'BsmtFin Type 1',\n",
       " 'BsmtFin Type 2',\n",
       " 'Fireplace Qu',\n",
       " 'Garage Type',\n",
       " 'Garage Yr Blt',\n",
       " 'Garage Finish',\n",
       " 'Garage Qual',\n",
       " 'Garage Cond',\n",
       " 'Pool QC',\n",
       " 'Fence',\n",
       " 'Misc Feature']"
      ]
     },
     "execution_count": 7,
     "metadata": {},
     "output_type": "execute_result"
    }
   ],
   "source": [
    "#drop every column where null values are more than 50\n",
    "c = 0\n",
    "home_del = []\n",
    "for i in home_train.isnull().sum():\n",
    "    if i >= 50:\n",
    "        home_del.append(home_cols[c])\n",
    "    c += 1\n",
    "home_del"
   ]
  },
  {
   "cell_type": "code",
   "execution_count": 8,
   "id": "77064ef7-25f0-437e-bade-2d39aa373493",
   "metadata": {},
   "outputs": [
    {
     "data": {
      "text/html": [
       "<div>\n",
       "<style scoped>\n",
       "    .dataframe tbody tr th:only-of-type {\n",
       "        vertical-align: middle;\n",
       "    }\n",
       "\n",
       "    .dataframe tbody tr th {\n",
       "        vertical-align: top;\n",
       "    }\n",
       "\n",
       "    .dataframe thead th {\n",
       "        text-align: right;\n",
       "    }\n",
       "</style>\n",
       "<table border=\"1\" class=\"dataframe\">\n",
       "  <thead>\n",
       "    <tr style=\"text-align: right;\">\n",
       "      <th></th>\n",
       "      <th>Id</th>\n",
       "      <th>PID</th>\n",
       "      <th>MS SubClass</th>\n",
       "      <th>MS Zoning</th>\n",
       "      <th>Lot Area</th>\n",
       "      <th>Street</th>\n",
       "      <th>Lot Shape</th>\n",
       "      <th>Land Contour</th>\n",
       "      <th>Utilities</th>\n",
       "      <th>Lot Config</th>\n",
       "      <th>...</th>\n",
       "      <th>Wood Deck SF</th>\n",
       "      <th>Open Porch SF</th>\n",
       "      <th>Enclosed Porch</th>\n",
       "      <th>3Ssn Porch</th>\n",
       "      <th>Screen Porch</th>\n",
       "      <th>Pool Area</th>\n",
       "      <th>Misc Val</th>\n",
       "      <th>Mo Sold</th>\n",
       "      <th>Yr Sold</th>\n",
       "      <th>Sale Type</th>\n",
       "    </tr>\n",
       "  </thead>\n",
       "  <tbody>\n",
       "    <tr>\n",
       "      <th>0</th>\n",
       "      <td>2658</td>\n",
       "      <td>902301120</td>\n",
       "      <td>190</td>\n",
       "      <td>RM</td>\n",
       "      <td>9142</td>\n",
       "      <td>Pave</td>\n",
       "      <td>Reg</td>\n",
       "      <td>Lvl</td>\n",
       "      <td>AllPub</td>\n",
       "      <td>Inside</td>\n",
       "      <td>...</td>\n",
       "      <td>0</td>\n",
       "      <td>60</td>\n",
       "      <td>112</td>\n",
       "      <td>0</td>\n",
       "      <td>0</td>\n",
       "      <td>0</td>\n",
       "      <td>0</td>\n",
       "      <td>4</td>\n",
       "      <td>2006</td>\n",
       "      <td>WD</td>\n",
       "    </tr>\n",
       "    <tr>\n",
       "      <th>1</th>\n",
       "      <td>2718</td>\n",
       "      <td>905108090</td>\n",
       "      <td>90</td>\n",
       "      <td>RL</td>\n",
       "      <td>9662</td>\n",
       "      <td>Pave</td>\n",
       "      <td>IR1</td>\n",
       "      <td>Lvl</td>\n",
       "      <td>AllPub</td>\n",
       "      <td>Inside</td>\n",
       "      <td>...</td>\n",
       "      <td>170</td>\n",
       "      <td>0</td>\n",
       "      <td>0</td>\n",
       "      <td>0</td>\n",
       "      <td>0</td>\n",
       "      <td>0</td>\n",
       "      <td>0</td>\n",
       "      <td>8</td>\n",
       "      <td>2006</td>\n",
       "      <td>WD</td>\n",
       "    </tr>\n",
       "    <tr>\n",
       "      <th>2</th>\n",
       "      <td>2414</td>\n",
       "      <td>528218130</td>\n",
       "      <td>60</td>\n",
       "      <td>RL</td>\n",
       "      <td>17104</td>\n",
       "      <td>Pave</td>\n",
       "      <td>IR1</td>\n",
       "      <td>Lvl</td>\n",
       "      <td>AllPub</td>\n",
       "      <td>Inside</td>\n",
       "      <td>...</td>\n",
       "      <td>100</td>\n",
       "      <td>24</td>\n",
       "      <td>0</td>\n",
       "      <td>0</td>\n",
       "      <td>0</td>\n",
       "      <td>0</td>\n",
       "      <td>0</td>\n",
       "      <td>9</td>\n",
       "      <td>2006</td>\n",
       "      <td>New</td>\n",
       "    </tr>\n",
       "    <tr>\n",
       "      <th>3</th>\n",
       "      <td>1989</td>\n",
       "      <td>902207150</td>\n",
       "      <td>30</td>\n",
       "      <td>RM</td>\n",
       "      <td>8520</td>\n",
       "      <td>Pave</td>\n",
       "      <td>Reg</td>\n",
       "      <td>Lvl</td>\n",
       "      <td>AllPub</td>\n",
       "      <td>Inside</td>\n",
       "      <td>...</td>\n",
       "      <td>0</td>\n",
       "      <td>0</td>\n",
       "      <td>184</td>\n",
       "      <td>0</td>\n",
       "      <td>0</td>\n",
       "      <td>0</td>\n",
       "      <td>0</td>\n",
       "      <td>7</td>\n",
       "      <td>2007</td>\n",
       "      <td>WD</td>\n",
       "    </tr>\n",
       "    <tr>\n",
       "      <th>4</th>\n",
       "      <td>625</td>\n",
       "      <td>535105100</td>\n",
       "      <td>20</td>\n",
       "      <td>RL</td>\n",
       "      <td>9500</td>\n",
       "      <td>Pave</td>\n",
       "      <td>IR1</td>\n",
       "      <td>Lvl</td>\n",
       "      <td>AllPub</td>\n",
       "      <td>Inside</td>\n",
       "      <td>...</td>\n",
       "      <td>0</td>\n",
       "      <td>76</td>\n",
       "      <td>0</td>\n",
       "      <td>0</td>\n",
       "      <td>185</td>\n",
       "      <td>0</td>\n",
       "      <td>0</td>\n",
       "      <td>7</td>\n",
       "      <td>2009</td>\n",
       "      <td>WD</td>\n",
       "    </tr>\n",
       "  </tbody>\n",
       "</table>\n",
       "<p>5 rows × 64 columns</p>\n",
       "</div>"
      ],
      "text/plain": [
       "     Id        PID  MS SubClass MS Zoning  Lot Area Street Lot Shape  \\\n",
       "0  2658  902301120          190        RM      9142   Pave       Reg   \n",
       "1  2718  905108090           90        RL      9662   Pave       IR1   \n",
       "2  2414  528218130           60        RL     17104   Pave       IR1   \n",
       "3  1989  902207150           30        RM      8520   Pave       Reg   \n",
       "4   625  535105100           20        RL      9500   Pave       IR1   \n",
       "\n",
       "  Land Contour Utilities Lot Config  ... Wood Deck SF Open Porch SF  \\\n",
       "0          Lvl    AllPub     Inside  ...            0            60   \n",
       "1          Lvl    AllPub     Inside  ...          170             0   \n",
       "2          Lvl    AllPub     Inside  ...          100            24   \n",
       "3          Lvl    AllPub     Inside  ...            0             0   \n",
       "4          Lvl    AllPub     Inside  ...            0            76   \n",
       "\n",
       "  Enclosed Porch 3Ssn Porch Screen Porch Pool Area  Misc Val  Mo Sold  \\\n",
       "0            112          0            0         0         0        4   \n",
       "1              0          0            0         0         0        8   \n",
       "2              0          0            0         0         0        9   \n",
       "3            184          0            0         0         0        7   \n",
       "4              0          0          185         0         0        7   \n",
       "\n",
       "   Yr Sold  Sale Type  \n",
       "0     2006        WD   \n",
       "1     2006        WD   \n",
       "2     2006        New  \n",
       "3     2007        WD   \n",
       "4     2009        WD   \n",
       "\n",
       "[5 rows x 64 columns]"
      ]
     },
     "execution_count": 8,
     "metadata": {},
     "output_type": "execute_result"
    }
   ],
   "source": [
    "home_test = home_test.drop(columns = home_del)\n",
    "home_test.head()"
   ]
  },
  {
   "cell_type": "code",
   "execution_count": 9,
   "id": "b9c1f7a3-8fa3-44e8-891c-bd2bf92439d2",
   "metadata": {
    "scrolled": true,
    "tags": []
   },
   "outputs": [
    {
     "data": {
      "text/plain": [
       "Id                  0\n",
       "PID                 0\n",
       "MS SubClass         0\n",
       "MS Zoning           0\n",
       "Lot Area            0\n",
       "Street              0\n",
       "Lot Shape           0\n",
       "Land Contour        0\n",
       "Utilities           0\n",
       "Lot Config          0\n",
       "Land Slope          0\n",
       "Neighborhood        0\n",
       "Condition 1         0\n",
       "Condition 2         0\n",
       "Bldg Type           0\n",
       "House Style         0\n",
       "Overall Qual        0\n",
       "Overall Cond        0\n",
       "Year Built          0\n",
       "Year Remod/Add      0\n",
       "Roof Style          0\n",
       "Roof Matl           0\n",
       "Exterior 1st        0\n",
       "Exterior 2nd        0\n",
       "Mas Vnr Type       22\n",
       "Mas Vnr Area       22\n",
       "Exter Qual          0\n",
       "Exter Cond          0\n",
       "Foundation          0\n",
       "BsmtFin SF 1        1\n",
       "BsmtFin SF 2        1\n",
       "Bsmt Unf SF         1\n",
       "Total Bsmt SF       1\n",
       "Heating             0\n",
       "Heating QC          0\n",
       "Central Air         0\n",
       "Electrical          0\n",
       "1st Flr SF          0\n",
       "2nd Flr SF          0\n",
       "Low Qual Fin SF     0\n",
       "Gr Liv Area         0\n",
       "Bsmt Full Bath      2\n",
       "Bsmt Half Bath      2\n",
       "Full Bath           0\n",
       "Half Bath           0\n",
       "Bedroom AbvGr       0\n",
       "Kitchen AbvGr       0\n",
       "Kitchen Qual        0\n",
       "TotRms AbvGrd       0\n",
       "Functional          0\n",
       "Fireplaces          0\n",
       "Garage Cars         1\n",
       "Garage Area         1\n",
       "Paved Drive         0\n",
       "Wood Deck SF        0\n",
       "Open Porch SF       0\n",
       "Enclosed Porch      0\n",
       "3Ssn Porch          0\n",
       "Screen Porch        0\n",
       "Pool Area           0\n",
       "Misc Val            0\n",
       "Mo Sold             0\n",
       "Yr Sold             0\n",
       "Sale Type           0\n",
       "SalePrice           0\n",
       "dtype: int64"
      ]
     },
     "execution_count": 9,
     "metadata": {},
     "output_type": "execute_result"
    }
   ],
   "source": [
    "home_train = home_train.drop(columns = home_del)\n",
    "home_train.isnull().sum()"
   ]
  },
  {
   "cell_type": "code",
   "execution_count": 10,
   "id": "de87de5a-f41b-4ee4-a959-94f3b9c2357d",
   "metadata": {
    "scrolled": true,
    "tags": []
   },
   "outputs": [
    {
     "data": {
      "text/plain": [
       "Id                 0\n",
       "PID                0\n",
       "MS SubClass        0\n",
       "MS Zoning          0\n",
       "Lot Area           0\n",
       "Street             0\n",
       "Lot Shape          0\n",
       "Land Contour       0\n",
       "Utilities          0\n",
       "Lot Config         0\n",
       "Land Slope         0\n",
       "Neighborhood       0\n",
       "Condition 1        0\n",
       "Condition 2        0\n",
       "Bldg Type          0\n",
       "House Style        0\n",
       "Overall Qual       0\n",
       "Overall Cond       0\n",
       "Year Built         0\n",
       "Year Remod/Add     0\n",
       "Roof Style         0\n",
       "Roof Matl          0\n",
       "Exterior 1st       0\n",
       "Exterior 2nd       0\n",
       "Mas Vnr Type       1\n",
       "Mas Vnr Area       1\n",
       "Exter Qual         0\n",
       "Exter Cond         0\n",
       "Foundation         0\n",
       "BsmtFin SF 1       0\n",
       "BsmtFin SF 2       0\n",
       "Bsmt Unf SF        0\n",
       "Total Bsmt SF      0\n",
       "Heating            0\n",
       "Heating QC         0\n",
       "Central Air        0\n",
       "Electrical         1\n",
       "1st Flr SF         0\n",
       "2nd Flr SF         0\n",
       "Low Qual Fin SF    0\n",
       "Gr Liv Area        0\n",
       "Bsmt Full Bath     0\n",
       "Bsmt Half Bath     0\n",
       "Full Bath          0\n",
       "Half Bath          0\n",
       "Bedroom AbvGr      0\n",
       "Kitchen AbvGr      0\n",
       "Kitchen Qual       0\n",
       "TotRms AbvGrd      0\n",
       "Functional         0\n",
       "Fireplaces         0\n",
       "Garage Cars        0\n",
       "Garage Area        0\n",
       "Paved Drive        0\n",
       "Wood Deck SF       0\n",
       "Open Porch SF      0\n",
       "Enclosed Porch     0\n",
       "3Ssn Porch         0\n",
       "Screen Porch       0\n",
       "Pool Area          0\n",
       "Misc Val           0\n",
       "Mo Sold            0\n",
       "Yr Sold            0\n",
       "Sale Type          0\n",
       "dtype: int64"
      ]
     },
     "execution_count": 10,
     "metadata": {},
     "output_type": "execute_result"
    }
   ],
   "source": [
    "home_test.isnull().sum()"
   ]
  },
  {
   "cell_type": "code",
   "execution_count": 11,
   "id": "a6e7db48-3908-4478-9a5b-109b2cfc5fd9",
   "metadata": {},
   "outputs": [],
   "source": [
    "#Replace the NA\n",
    "home_train.dropna(inplace=True)"
   ]
  },
  {
   "cell_type": "markdown",
   "id": "62b04ae8-3e0f-4c54-9d4d-8d7f60e5d6f4",
   "metadata": {},
   "source": [
    "Looking at the data dictionary we can see that many of the files are duplicates (or at least far to similar). We are going to delete some of them so we don't get copy cat information"
   ]
  },
  {
   "cell_type": "code",
   "execution_count": 12,
   "id": "28061ca5-da76-4554-9a33-f395bbbd8b29",
   "metadata": {},
   "outputs": [],
   "source": [
    "#Let's make a matrix of them\n",
    "duplo = ['MS SubClass', 'Lot Shape', 'Lot Config', 'Land Slope', 'Condition 2', 'House Style', 'Overall Cond', 'Year Remod/Add', 'Exterior 2nd', 'Exter Cond', 'BsmtFin SF 1', 'BsmtFin SF 2', 'Bsmt Unf SF', 'Bsmt Full Bath', 'Bsmt Half Bath', 'Heating', 'Garage Cars']\n",
    "home_train = home_train.drop(columns = duplo)\n",
    "home_test = home_test.drop(columns = duplo)"
   ]
  },
  {
   "cell_type": "markdown",
   "id": "1f8a3e24-2d7a-4007-9115-33c190a0a972",
   "metadata": {},
   "source": [
    "Central air is either Yes or No so let's make Yes 1 and No 0"
   ]
  },
  {
   "cell_type": "code",
   "execution_count": 13,
   "id": "ae905a4d-8fb2-4aa7-a9a6-80c91f41ed7e",
   "metadata": {},
   "outputs": [],
   "source": [
    "home_train['Central Air'] = home_train['Central Air'].map(lambda ca: 1 if ca == \"Y\" else 0)\n",
    "home_test['Central Air'] = home_test['Central Air'].map(lambda ca: 1 if ca == \"Y\" else 0)"
   ]
  },
  {
   "cell_type": "code",
   "execution_count": 14,
   "id": "4f07dd2c-1a22-4fa0-877c-2eb197c9eedf",
   "metadata": {
    "scrolled": true,
    "tags": []
   },
   "outputs": [
    {
     "name": "stdout",
     "output_type": "stream",
     "text": [
      "<class 'pandas.core.frame.DataFrame'>\n",
      "Int64Index: 2026 entries, 0 to 2050\n",
      "Data columns (total 48 columns):\n",
      " #   Column           Non-Null Count  Dtype  \n",
      "---  ------           --------------  -----  \n",
      " 0   Id               2026 non-null   int64  \n",
      " 1   PID              2026 non-null   int64  \n",
      " 2   MS Zoning        2026 non-null   object \n",
      " 3   Lot Area         2026 non-null   int64  \n",
      " 4   Street           2026 non-null   object \n",
      " 5   Land Contour     2026 non-null   object \n",
      " 6   Utilities        2026 non-null   object \n",
      " 7   Neighborhood     2026 non-null   object \n",
      " 8   Condition 1      2026 non-null   object \n",
      " 9   Bldg Type        2026 non-null   object \n",
      " 10  Overall Qual     2026 non-null   int64  \n",
      " 11  Year Built       2026 non-null   int64  \n",
      " 12  Roof Style       2026 non-null   object \n",
      " 13  Roof Matl        2026 non-null   object \n",
      " 14  Exterior 1st     2026 non-null   object \n",
      " 15  Mas Vnr Type     2026 non-null   object \n",
      " 16  Mas Vnr Area     2026 non-null   float64\n",
      " 17  Exter Qual       2026 non-null   object \n",
      " 18  Foundation       2026 non-null   object \n",
      " 19  Total Bsmt SF    2026 non-null   float64\n",
      " 20  Heating QC       2026 non-null   object \n",
      " 21  Central Air      2026 non-null   int64  \n",
      " 22  Electrical       2026 non-null   object \n",
      " 23  1st Flr SF       2026 non-null   int64  \n",
      " 24  2nd Flr SF       2026 non-null   int64  \n",
      " 25  Low Qual Fin SF  2026 non-null   int64  \n",
      " 26  Gr Liv Area      2026 non-null   int64  \n",
      " 27  Full Bath        2026 non-null   int64  \n",
      " 28  Half Bath        2026 non-null   int64  \n",
      " 29  Bedroom AbvGr    2026 non-null   int64  \n",
      " 30  Kitchen AbvGr    2026 non-null   int64  \n",
      " 31  Kitchen Qual     2026 non-null   object \n",
      " 32  TotRms AbvGrd    2026 non-null   int64  \n",
      " 33  Functional       2026 non-null   object \n",
      " 34  Fireplaces       2026 non-null   int64  \n",
      " 35  Garage Area      2026 non-null   float64\n",
      " 36  Paved Drive      2026 non-null   object \n",
      " 37  Wood Deck SF     2026 non-null   int64  \n",
      " 38  Open Porch SF    2026 non-null   int64  \n",
      " 39  Enclosed Porch   2026 non-null   int64  \n",
      " 40  3Ssn Porch       2026 non-null   int64  \n",
      " 41  Screen Porch     2026 non-null   int64  \n",
      " 42  Pool Area        2026 non-null   int64  \n",
      " 43  Misc Val         2026 non-null   int64  \n",
      " 44  Mo Sold          2026 non-null   int64  \n",
      " 45  Yr Sold          2026 non-null   int64  \n",
      " 46  Sale Type        2026 non-null   object \n",
      " 47  SalePrice        2026 non-null   int64  \n",
      "dtypes: float64(3), int64(26), object(19)\n",
      "memory usage: 775.6+ KB\n"
     ]
    }
   ],
   "source": [
    "#Let's look at the info\n",
    "home_train.info()"
   ]
  },
  {
   "cell_type": "markdown",
   "id": "2fb6a6cd-6683-44e7-b805-ec1e24b611e7",
   "metadata": {},
   "source": [
    "The data looks nice and clean. Now let's exam a heat map to see any correlations"
   ]
  },
  {
   "cell_type": "code",
   "execution_count": 15,
   "id": "8940d5e9-9435-4412-bb82-8f6b0b86c499",
   "metadata": {},
   "outputs": [
    {
     "data": {
      "image/png": "[encoded data removed]",
      "text/plain": [
       "<Figure size 720x576 with 2 Axes>"
      ]
     },
     "metadata": {
      "needs_background": "light"
     },
     "output_type": "display_data"
    }
   ],
   "source": [
    "#Let's see the heat map without making dummies to see if we can reduce this further\n",
    "#Based on Breakfast hour Thursday the 9th\n",
    "plt.figure(figsize=(10,8))\n",
    "sns.heatmap(home_train.corr()[['SalePrice']].sort_values(by='SalePrice',ascending=False),\n",
    "            annot = True,\n",
    "            vmin = -1,\n",
    "            vmax = 1,\n",
    "            cmap = 'coolwarm');"
   ]
  },
  {
   "cell_type": "markdown",
   "id": "ceed7c65-30ce-4a4e-9e8d-02b2262b56b3",
   "metadata": {},
   "source": [
    "We want a good cut off point so that the data is overfit or underfit. Let's let 0.6 be that cut off point"
   ]
  },
  {
   "cell_type": "code",
   "execution_count": 16,
   "id": "dcc0b479-4e1c-42e0-a242-ae0454854f21",
   "metadata": {},
   "outputs": [],
   "source": [
    "#Let's delete where the corrilation is less than 0.6\n",
    "low_corr_array = ['Year Built', 'Full Bath', 'Mas Vnr Area', 'TotRms AbvGrd', 'Fireplaces', 'Wood Deck SF', 'Open Porch SF', 'Lot Area', 'Half Bath', 'Central Air', '2nd Flr SF', 'Bedroom AbvGr', 'Screen Porch', '3Ssn Porch', 'Mo Sold', 'Pool Area', 'Misc Val', 'Yr Sold', 'Low Qual Fin SF', 'Kitchen AbvGr', 'Enclosed Porch', 'PID']"
   ]
  },
  {
   "cell_type": "code",
   "execution_count": 17,
   "id": "f1a6447f-3ea1-487f-a66e-6a263c3f57ea",
   "metadata": {},
   "outputs": [
    {
     "name": "stdout",
     "output_type": "stream",
     "text": [
      "<class 'pandas.core.frame.DataFrame'>\n",
      "Int64Index: 2026 entries, 0 to 2050\n",
      "Data columns (total 26 columns):\n",
      " #   Column         Non-Null Count  Dtype  \n",
      "---  ------         --------------  -----  \n",
      " 0   Id             2026 non-null   int64  \n",
      " 1   MS Zoning      2026 non-null   object \n",
      " 2   Street         2026 non-null   object \n",
      " 3   Land Contour   2026 non-null   object \n",
      " 4   Utilities      2026 non-null   object \n",
      " 5   Neighborhood   2026 non-null   object \n",
      " 6   Condition 1    2026 non-null   object \n",
      " 7   Bldg Type      2026 non-null   object \n",
      " 8   Overall Qual   2026 non-null   int64  \n",
      " 9   Roof Style     2026 non-null   object \n",
      " 10  Roof Matl      2026 non-null   object \n",
      " 11  Exterior 1st   2026 non-null   object \n",
      " 12  Mas Vnr Type   2026 non-null   object \n",
      " 13  Exter Qual     2026 non-null   object \n",
      " 14  Foundation     2026 non-null   object \n",
      " 15  Total Bsmt SF  2026 non-null   float64\n",
      " 16  Heating QC     2026 non-null   object \n",
      " 17  Electrical     2026 non-null   object \n",
      " 18  1st Flr SF     2026 non-null   int64  \n",
      " 19  Gr Liv Area    2026 non-null   int64  \n",
      " 20  Kitchen Qual   2026 non-null   object \n",
      " 21  Functional     2026 non-null   object \n",
      " 22  Garage Area    2026 non-null   float64\n",
      " 23  Paved Drive    2026 non-null   object \n",
      " 24  Sale Type      2026 non-null   object \n",
      " 25  SalePrice      2026 non-null   int64  \n",
      "dtypes: float64(2), int64(5), object(19)\n",
      "memory usage: 427.4+ KB\n"
     ]
    }
   ],
   "source": [
    "home_train = home_train.drop(columns = low_corr_array)\n",
    "home_test = home_test.drop(columns = low_corr_array)\n",
    "home_train.info()"
   ]
  },
  {
   "cell_type": "markdown",
   "id": "a114755d-d7df-40d9-8ef5-d0e41117276f",
   "metadata": {},
   "source": [
    "We see that many of the columns are object typed. We can't do much with that. But we can turn them into dummy variables in order to possibly find some trends"
   ]
  },
  {
   "cell_type": "code",
   "execution_count": 18,
   "id": "7e9e33bc-b59d-4b2e-9a9b-d7c3ae1042c9",
   "metadata": {},
   "outputs": [
    {
     "data": {
      "text/plain": [
       "['MS Zoning',\n",
       " 'Street',\n",
       " 'Land Contour',\n",
       " 'Utilities',\n",
       " 'Neighborhood',\n",
       " 'Condition 1',\n",
       " 'Bldg Type',\n",
       " 'Roof Style',\n",
       " 'Roof Matl',\n",
       " 'Exterior 1st',\n",
       " 'Mas Vnr Type',\n",
       " 'Exter Qual',\n",
       " 'Foundation',\n",
       " 'Heating QC',\n",
       " 'Electrical',\n",
       " 'Kitchen Qual',\n",
       " 'Functional',\n",
       " 'Paved Drive',\n",
       " 'Sale Type']"
      ]
     },
     "execution_count": 18,
     "metadata": {},
     "output_type": "execute_result"
    }
   ],
   "source": [
    "#Let's Create Dummies and find out which ones are relevent or not\n",
    "home_array = [n for n in home_test.drop(columns=['Id', 'Overall Qual', 'Total Bsmt SF', '1st Flr SF', 'Gr Liv Area', 'Garage Area'])]\n",
    "home_array"
   ]
  },
  {
   "cell_type": "code",
   "execution_count": 19,
   "id": "198f3f33-bee2-4edf-9107-ce6106daf50c",
   "metadata": {},
   "outputs": [
    {
     "data": {
      "text/html": [
       "<div>\n",
       "<style scoped>\n",
       "    .dataframe tbody tr th:only-of-type {\n",
       "        vertical-align: middle;\n",
       "    }\n",
       "\n",
       "    .dataframe tbody tr th {\n",
       "        vertical-align: top;\n",
       "    }\n",
       "\n",
       "    .dataframe thead th {\n",
       "        text-align: right;\n",
       "    }\n",
       "</style>\n",
       "<table border=\"1\" class=\"dataframe\">\n",
       "  <thead>\n",
       "    <tr style=\"text-align: right;\">\n",
       "      <th></th>\n",
       "      <th>Id</th>\n",
       "      <th>Overall Qual</th>\n",
       "      <th>Total Bsmt SF</th>\n",
       "      <th>1st Flr SF</th>\n",
       "      <th>Gr Liv Area</th>\n",
       "      <th>Garage Area</th>\n",
       "      <th>SalePrice</th>\n",
       "      <th>MS Zoning_C (all)</th>\n",
       "      <th>MS Zoning_FV</th>\n",
       "      <th>MS Zoning_I (all)</th>\n",
       "      <th>...</th>\n",
       "      <th>Paved Drive_P</th>\n",
       "      <th>Paved Drive_Y</th>\n",
       "      <th>Sale Type_CWD</th>\n",
       "      <th>Sale Type_Con</th>\n",
       "      <th>Sale Type_ConLD</th>\n",
       "      <th>Sale Type_ConLI</th>\n",
       "      <th>Sale Type_ConLw</th>\n",
       "      <th>Sale Type_New</th>\n",
       "      <th>Sale Type_Oth</th>\n",
       "      <th>Sale Type_WD</th>\n",
       "    </tr>\n",
       "  </thead>\n",
       "  <tbody>\n",
       "    <tr>\n",
       "      <th>0</th>\n",
       "      <td>109</td>\n",
       "      <td>6</td>\n",
       "      <td>725.0</td>\n",
       "      <td>725</td>\n",
       "      <td>1479</td>\n",
       "      <td>475.0</td>\n",
       "      <td>130500</td>\n",
       "      <td>0</td>\n",
       "      <td>0</td>\n",
       "      <td>0</td>\n",
       "      <td>...</td>\n",
       "      <td>0</td>\n",
       "      <td>1</td>\n",
       "      <td>0</td>\n",
       "      <td>0</td>\n",
       "      <td>0</td>\n",
       "      <td>0</td>\n",
       "      <td>0</td>\n",
       "      <td>0</td>\n",
       "      <td>0</td>\n",
       "      <td>1</td>\n",
       "    </tr>\n",
       "    <tr>\n",
       "      <th>1</th>\n",
       "      <td>544</td>\n",
       "      <td>7</td>\n",
       "      <td>913.0</td>\n",
       "      <td>913</td>\n",
       "      <td>2122</td>\n",
       "      <td>559.0</td>\n",
       "      <td>220000</td>\n",
       "      <td>0</td>\n",
       "      <td>0</td>\n",
       "      <td>0</td>\n",
       "      <td>...</td>\n",
       "      <td>0</td>\n",
       "      <td>1</td>\n",
       "      <td>0</td>\n",
       "      <td>0</td>\n",
       "      <td>0</td>\n",
       "      <td>0</td>\n",
       "      <td>0</td>\n",
       "      <td>0</td>\n",
       "      <td>0</td>\n",
       "      <td>1</td>\n",
       "    </tr>\n",
       "    <tr>\n",
       "      <th>2</th>\n",
       "      <td>153</td>\n",
       "      <td>5</td>\n",
       "      <td>1057.0</td>\n",
       "      <td>1057</td>\n",
       "      <td>1057</td>\n",
       "      <td>246.0</td>\n",
       "      <td>109000</td>\n",
       "      <td>0</td>\n",
       "      <td>0</td>\n",
       "      <td>0</td>\n",
       "      <td>...</td>\n",
       "      <td>0</td>\n",
       "      <td>1</td>\n",
       "      <td>0</td>\n",
       "      <td>0</td>\n",
       "      <td>0</td>\n",
       "      <td>0</td>\n",
       "      <td>0</td>\n",
       "      <td>0</td>\n",
       "      <td>0</td>\n",
       "      <td>1</td>\n",
       "    </tr>\n",
       "    <tr>\n",
       "      <th>3</th>\n",
       "      <td>318</td>\n",
       "      <td>5</td>\n",
       "      <td>384.0</td>\n",
       "      <td>744</td>\n",
       "      <td>1444</td>\n",
       "      <td>400.0</td>\n",
       "      <td>174000</td>\n",
       "      <td>0</td>\n",
       "      <td>0</td>\n",
       "      <td>0</td>\n",
       "      <td>...</td>\n",
       "      <td>0</td>\n",
       "      <td>1</td>\n",
       "      <td>0</td>\n",
       "      <td>0</td>\n",
       "      <td>0</td>\n",
       "      <td>0</td>\n",
       "      <td>0</td>\n",
       "      <td>0</td>\n",
       "      <td>0</td>\n",
       "      <td>1</td>\n",
       "    </tr>\n",
       "    <tr>\n",
       "      <th>4</th>\n",
       "      <td>255</td>\n",
       "      <td>6</td>\n",
       "      <td>676.0</td>\n",
       "      <td>831</td>\n",
       "      <td>1445</td>\n",
       "      <td>484.0</td>\n",
       "      <td>138500</td>\n",
       "      <td>0</td>\n",
       "      <td>0</td>\n",
       "      <td>0</td>\n",
       "      <td>...</td>\n",
       "      <td>0</td>\n",
       "      <td>0</td>\n",
       "      <td>0</td>\n",
       "      <td>0</td>\n",
       "      <td>0</td>\n",
       "      <td>0</td>\n",
       "      <td>0</td>\n",
       "      <td>0</td>\n",
       "      <td>0</td>\n",
       "      <td>1</td>\n",
       "    </tr>\n",
       "  </tbody>\n",
       "</table>\n",
       "<p>5 rows × 121 columns</p>\n",
       "</div>"
      ],
      "text/plain": [
       "    Id  Overall Qual  Total Bsmt SF  1st Flr SF  Gr Liv Area  Garage Area  \\\n",
       "0  109             6          725.0         725         1479        475.0   \n",
       "1  544             7          913.0         913         2122        559.0   \n",
       "2  153             5         1057.0        1057         1057        246.0   \n",
       "3  318             5          384.0         744         1444        400.0   \n",
       "4  255             6          676.0         831         1445        484.0   \n",
       "\n",
       "   SalePrice  MS Zoning_C (all)  MS Zoning_FV  MS Zoning_I (all)  ...  \\\n",
       "0     130500                  0             0                  0  ...   \n",
       "1     220000                  0             0                  0  ...   \n",
       "2     109000                  0             0                  0  ...   \n",
       "3     174000                  0             0                  0  ...   \n",
       "4     138500                  0             0                  0  ...   \n",
       "\n",
       "   Paved Drive_P  Paved Drive_Y  Sale Type_CWD  Sale Type_Con  \\\n",
       "0              0              1              0              0   \n",
       "1              0              1              0              0   \n",
       "2              0              1              0              0   \n",
       "3              0              1              0              0   \n",
       "4              0              0              0              0   \n",
       "\n",
       "   Sale Type_ConLD  Sale Type_ConLI  Sale Type_ConLw  Sale Type_New  \\\n",
       "0                0                0                0              0   \n",
       "1                0                0                0              0   \n",
       "2                0                0                0              0   \n",
       "3                0                0                0              0   \n",
       "4                0                0                0              0   \n",
       "\n",
       "   Sale Type_Oth  Sale Type_WD   \n",
       "0              0              1  \n",
       "1              0              1  \n",
       "2              0              1  \n",
       "3              0              1  \n",
       "4              0              1  \n",
       "\n",
       "[5 rows x 121 columns]"
      ]
     },
     "execution_count": 19,
     "metadata": {},
     "output_type": "execute_result"
    }
   ],
   "source": [
    "home_train = pd.get_dummies(home_train, columns=home_array, drop_first=True)\n",
    "home_train.head()"
   ]
  },
  {
   "cell_type": "code",
   "execution_count": 20,
   "id": "b5aaee73-1684-47be-a519-bb8d4dcfe16c",
   "metadata": {},
   "outputs": [
    {
     "data": {
      "text/html": [
       "<div>\n",
       "<style scoped>\n",
       "    .dataframe tbody tr th:only-of-type {\n",
       "        vertical-align: middle;\n",
       "    }\n",
       "\n",
       "    .dataframe tbody tr th {\n",
       "        vertical-align: top;\n",
       "    }\n",
       "\n",
       "    .dataframe thead th {\n",
       "        text-align: right;\n",
       "    }\n",
       "</style>\n",
       "<table border=\"1\" class=\"dataframe\">\n",
       "  <thead>\n",
       "    <tr style=\"text-align: right;\">\n",
       "      <th></th>\n",
       "      <th>Id</th>\n",
       "      <th>Overall Qual</th>\n",
       "      <th>Total Bsmt SF</th>\n",
       "      <th>1st Flr SF</th>\n",
       "      <th>Gr Liv Area</th>\n",
       "      <th>Garage Area</th>\n",
       "      <th>MS Zoning_C (all)</th>\n",
       "      <th>MS Zoning_FV</th>\n",
       "      <th>MS Zoning_I (all)</th>\n",
       "      <th>MS Zoning_RH</th>\n",
       "      <th>...</th>\n",
       "      <th>Sale Type_COD</th>\n",
       "      <th>Sale Type_CWD</th>\n",
       "      <th>Sale Type_Con</th>\n",
       "      <th>Sale Type_ConLD</th>\n",
       "      <th>Sale Type_ConLI</th>\n",
       "      <th>Sale Type_ConLw</th>\n",
       "      <th>Sale Type_New</th>\n",
       "      <th>Sale Type_Oth</th>\n",
       "      <th>Sale Type_VWD</th>\n",
       "      <th>Sale Type_WD</th>\n",
       "    </tr>\n",
       "  </thead>\n",
       "  <tbody>\n",
       "    <tr>\n",
       "      <th>0</th>\n",
       "      <td>2658</td>\n",
       "      <td>6</td>\n",
       "      <td>1020</td>\n",
       "      <td>908</td>\n",
       "      <td>1928</td>\n",
       "      <td>440</td>\n",
       "      <td>0</td>\n",
       "      <td>0</td>\n",
       "      <td>0</td>\n",
       "      <td>0</td>\n",
       "      <td>...</td>\n",
       "      <td>0</td>\n",
       "      <td>0</td>\n",
       "      <td>0</td>\n",
       "      <td>0</td>\n",
       "      <td>0</td>\n",
       "      <td>0</td>\n",
       "      <td>0</td>\n",
       "      <td>0</td>\n",
       "      <td>0</td>\n",
       "      <td>1</td>\n",
       "    </tr>\n",
       "    <tr>\n",
       "      <th>1</th>\n",
       "      <td>2718</td>\n",
       "      <td>5</td>\n",
       "      <td>1967</td>\n",
       "      <td>1967</td>\n",
       "      <td>1967</td>\n",
       "      <td>580</td>\n",
       "      <td>0</td>\n",
       "      <td>0</td>\n",
       "      <td>0</td>\n",
       "      <td>0</td>\n",
       "      <td>...</td>\n",
       "      <td>0</td>\n",
       "      <td>0</td>\n",
       "      <td>0</td>\n",
       "      <td>0</td>\n",
       "      <td>0</td>\n",
       "      <td>0</td>\n",
       "      <td>0</td>\n",
       "      <td>0</td>\n",
       "      <td>0</td>\n",
       "      <td>1</td>\n",
       "    </tr>\n",
       "    <tr>\n",
       "      <th>2</th>\n",
       "      <td>2414</td>\n",
       "      <td>7</td>\n",
       "      <td>654</td>\n",
       "      <td>664</td>\n",
       "      <td>1496</td>\n",
       "      <td>426</td>\n",
       "      <td>0</td>\n",
       "      <td>0</td>\n",
       "      <td>0</td>\n",
       "      <td>0</td>\n",
       "      <td>...</td>\n",
       "      <td>0</td>\n",
       "      <td>0</td>\n",
       "      <td>0</td>\n",
       "      <td>0</td>\n",
       "      <td>0</td>\n",
       "      <td>0</td>\n",
       "      <td>1</td>\n",
       "      <td>0</td>\n",
       "      <td>0</td>\n",
       "      <td>0</td>\n",
       "    </tr>\n",
       "    <tr>\n",
       "      <th>3</th>\n",
       "      <td>1989</td>\n",
       "      <td>5</td>\n",
       "      <td>968</td>\n",
       "      <td>968</td>\n",
       "      <td>968</td>\n",
       "      <td>480</td>\n",
       "      <td>0</td>\n",
       "      <td>0</td>\n",
       "      <td>0</td>\n",
       "      <td>0</td>\n",
       "      <td>...</td>\n",
       "      <td>0</td>\n",
       "      <td>0</td>\n",
       "      <td>0</td>\n",
       "      <td>0</td>\n",
       "      <td>0</td>\n",
       "      <td>0</td>\n",
       "      <td>0</td>\n",
       "      <td>0</td>\n",
       "      <td>0</td>\n",
       "      <td>1</td>\n",
       "    </tr>\n",
       "    <tr>\n",
       "      <th>4</th>\n",
       "      <td>625</td>\n",
       "      <td>6</td>\n",
       "      <td>1394</td>\n",
       "      <td>1394</td>\n",
       "      <td>1394</td>\n",
       "      <td>514</td>\n",
       "      <td>0</td>\n",
       "      <td>0</td>\n",
       "      <td>0</td>\n",
       "      <td>0</td>\n",
       "      <td>...</td>\n",
       "      <td>0</td>\n",
       "      <td>0</td>\n",
       "      <td>0</td>\n",
       "      <td>0</td>\n",
       "      <td>0</td>\n",
       "      <td>0</td>\n",
       "      <td>0</td>\n",
       "      <td>0</td>\n",
       "      <td>0</td>\n",
       "      <td>1</td>\n",
       "    </tr>\n",
       "  </tbody>\n",
       "</table>\n",
       "<p>5 rows × 132 columns</p>\n",
       "</div>"
      ],
      "text/plain": [
       "     Id  Overall Qual  Total Bsmt SF  1st Flr SF  Gr Liv Area  Garage Area  \\\n",
       "0  2658             6           1020         908         1928          440   \n",
       "1  2718             5           1967        1967         1967          580   \n",
       "2  2414             7            654         664         1496          426   \n",
       "3  1989             5            968         968          968          480   \n",
       "4   625             6           1394        1394         1394          514   \n",
       "\n",
       "   MS Zoning_C (all)  MS Zoning_FV  MS Zoning_I (all)  MS Zoning_RH  ...  \\\n",
       "0                  0             0                  0             0  ...   \n",
       "1                  0             0                  0             0  ...   \n",
       "2                  0             0                  0             0  ...   \n",
       "3                  0             0                  0             0  ...   \n",
       "4                  0             0                  0             0  ...   \n",
       "\n",
       "   Sale Type_COD  Sale Type_CWD  Sale Type_Con  Sale Type_ConLD  \\\n",
       "0              0              0              0                0   \n",
       "1              0              0              0                0   \n",
       "2              0              0              0                0   \n",
       "3              0              0              0                0   \n",
       "4              0              0              0                0   \n",
       "\n",
       "   Sale Type_ConLI  Sale Type_ConLw  Sale Type_New  Sale Type_Oth  \\\n",
       "0                0                0              0              0   \n",
       "1                0                0              0              0   \n",
       "2                0                0              1              0   \n",
       "3                0                0              0              0   \n",
       "4                0                0              0              0   \n",
       "\n",
       "   Sale Type_VWD  Sale Type_WD   \n",
       "0              0              1  \n",
       "1              0              1  \n",
       "2              0              0  \n",
       "3              0              1  \n",
       "4              0              1  \n",
       "\n",
       "[5 rows x 132 columns]"
      ]
     },
     "execution_count": 20,
     "metadata": {},
     "output_type": "execute_result"
    }
   ],
   "source": [
    "home_test = pd.get_dummies(home_test, columns=home_array, drop_first=False)\n",
    "home_test.head()"
   ]
  },
  {
   "cell_type": "markdown",
   "id": "082ac173-31a0-4459-bee1-ae82f4b9028f",
   "metadata": {},
   "source": [
    "Now that we have the dummy variables, we can look at the heat map to see if any of them make the 0.6 correlation threshold. "
   ]
  },
  {
   "cell_type": "code",
   "execution_count": 21,
   "id": "7174c4e2-e575-417d-a41f-355caa4f582f",
   "metadata": {
    "scrolled": true,
    "tags": []
   },
   "outputs": [
    {
     "data": {
      "image/png": "[encoded data removed]",
      "text/plain": [
       "<Figure size 720x5760 with 2 Axes>"
      ]
     },
     "metadata": {
      "needs_background": "light"
     },
     "output_type": "display_data"
    }
   ],
   "source": [
    "#look at the heat map again\n",
    "plt.figure(figsize=(10,80))\n",
    "sns.heatmap(home_train.corr()[['SalePrice']].sort_values(by='SalePrice',ascending=False),\n",
    "            annot = True,\n",
    "            vmin = -1,\n",
    "            vmax = 1,\n",
    "            cmap = 'coolwarm');"
   ]
  },
  {
   "cell_type": "markdown",
   "id": "0ccc8209-64a9-40b7-8f4d-33c4a9d1c4d0",
   "metadata": {},
   "source": [
    "Looking at this data we see that the Exterior Quality with a grade of TA is negatively correlated to the data at a rate of 0.6. We will at that to our model. But first let's look at more exploritory data. First, let us look at the best correlated factor, overall quality"
   ]
  },
  {
   "cell_type": "code",
   "execution_count": 22,
   "id": "2a7a09f8-62ab-44e2-8c42-2c327b58a9e7",
   "metadata": {},
   "outputs": [
    {
     "data": {
      "image/png": "[encoded data removed]",
      "text/plain": [
       "<Figure size 432x288 with 1 Axes>"
      ]
     },
     "metadata": {
      "needs_background": "light"
     },
     "output_type": "display_data"
    }
   ],
   "source": [
    "#Let's look at the graphs of some of these\n",
    "#Let us start with the one with the most correlation. Overall Qual\n",
    "plt.title('SalePrice vs Overall Qual')\n",
    "\n",
    "plt.scatter(\n",
    "            home_train['Overall Qual'],\n",
    "            home_train['SalePrice'],\n",
    "            color = 'r', alpha = 0.5, label = 'Overall Qual')\n",
    "plt.xlabel('Overall Qual')\n",
    "plt.ylabel('SalePrice')\n",
    "plt.legend();"
   ]
  },
  {
   "cell_type": "code",
   "execution_count": 23,
   "id": "7ad23e9e-b04f-4c85-ac29-52a34a8cba6b",
   "metadata": {},
   "outputs": [
    {
     "data": {
      "text/plain": [
       "<AxesSubplot:xlabel='Overall Qual', ylabel='SalePrice'>"
      ]
     },
     "execution_count": 23,
     "metadata": {},
     "output_type": "execute_result"
    },
    {
     "data": {
      "image/png": "[encoded data removed]",
      "text/plain": [
       "<Figure size 432x288 with 1 Axes>"
      ]
     },
     "metadata": {
      "needs_background": "light"
     },
     "output_type": "display_data"
    }
   ],
   "source": [
    "sns.barplot(y=\"SalePrice\", x=\"Overall Qual\", data=home_train)"
   ]
  },
  {
   "cell_type": "markdown",
   "id": "b3fdbb81-0bd1-419f-a9b8-0a2bccc3a816",
   "metadata": {},
   "source": [
    "We see a pretty linear correlation here. Now, how about the least correlated, Foundation_Wood?"
   ]
  },
  {
   "cell_type": "code",
   "execution_count": 24,
   "id": "97bef0ee-a0bd-4a0e-97cd-c7d82850de4a",
   "metadata": {},
   "outputs": [
    {
     "data": {
      "image/png": "[encoded data removed]",
      "text/plain": [
       "<Figure size 432x288 with 1 Axes>"
      ]
     },
     "metadata": {
      "needs_background": "light"
     },
     "output_type": "display_data"
    }
   ],
   "source": [
    "\n",
    "plt.title('SalePrice vs Foundation_Wood')\n",
    "\n",
    "plt.scatter(home_train['Foundation_Wood'],\n",
    "            home_train['SalePrice'],\n",
    "            color = 'y', alpha = 0.5, label = 'Foundation_Wood')\n",
    "plt.xlabel('Foundation_Wood')\n",
    "plt.ylabel('SalePrice')\n",
    "plt.legend();"
   ]
  },
  {
   "cell_type": "code",
   "execution_count": 25,
   "id": "4c73c2d5-b120-44d2-b80d-7e93fde1d672",
   "metadata": {},
   "outputs": [
    {
     "data": {
      "text/plain": [
       "<AxesSubplot:xlabel='Foundation_Wood', ylabel='SalePrice'>"
      ]
     },
     "execution_count": 25,
     "metadata": {},
     "output_type": "execute_result"
    },
    {
     "data": {
      "image/png": "[encoded data removed]",
      "text/plain": [
       "<Figure size 432x288 with 1 Axes>"
      ]
     },
     "metadata": {
      "needs_background": "light"
     },
     "output_type": "display_data"
    }
   ],
   "source": [
    "sns.boxplot(y=\"SalePrice\", x=\"Foundation_Wood\", data=home_train)"
   ]
  },
  {
   "cell_type": "markdown",
   "id": "fea46bb6-c627-43e3-b54b-e985aaa6db42",
   "metadata": {},
   "source": [
    "We see that there isn't a difference in price wheather or not foundation wood is used or not. Now let's look at the most negatively correlated data, Extra Qual_TA"
   ]
  },
  {
   "cell_type": "code",
   "execution_count": 26,
   "id": "ac7b36ab-3c15-4282-ac47-68628200390e",
   "metadata": {},
   "outputs": [
    {
     "data": {
      "image/png": "[encoded data removed]",
      "text/plain": [
       "<Figure size 432x288 with 1 Axes>"
      ]
     },
     "metadata": {
      "needs_background": "light"
     },
     "output_type": "display_data"
    }
   ],
   "source": [
    "plt.title('SalePrice vs Exter Qual_TA')\n",
    "\n",
    "plt.scatter(home_train['Exter Qual_TA'],\n",
    "            home_train['SalePrice'],\n",
    "            color = 'b', alpha = 0.5, label = 'Foundation_Wood')\n",
    "plt.xlabel('Exter Qual_TA')\n",
    "plt.ylabel('SalePrice')\n",
    "plt.legend();"
   ]
  },
  {
   "cell_type": "code",
   "execution_count": 27,
   "id": "5b2c3b06-0149-41b2-8d9a-43de7ab85d59",
   "metadata": {},
   "outputs": [
    {
     "data": {
      "text/plain": [
       "<AxesSubplot:xlabel='Exter Qual_TA', ylabel='SalePrice'>"
      ]
     },
     "execution_count": 27,
     "metadata": {},
     "output_type": "execute_result"
    },
    {
     "data": {
      "image/png": "[encoded data removed]",
      "text/plain": [
       "<Figure size 432x288 with 1 Axes>"
      ]
     },
     "metadata": {
      "needs_background": "light"
     },
     "output_type": "display_data"
    }
   ],
   "source": [
    "sns.boxplot(y=\"SalePrice\", x=\"Exter Qual_TA\", data=home_train)"
   ]
  },
  {
   "cell_type": "markdown",
   "id": "324fdd18-30b4-4076-9768-2099c64046fd",
   "metadata": {},
   "source": [
    "We see that not having an External Quality of TA gives a higher chance at a higher sales price"
   ]
  },
  {
   "cell_type": "code",
   "execution_count": 28,
   "id": "aa4bdc3c-4055-44dd-9682-82f9139df01e",
   "metadata": {},
   "outputs": [
    {
     "data": {
      "image/png": "[encoded data removed]",
      "text/plain": [
       "<Figure size 432x288 with 1 Axes>"
      ]
     },
     "metadata": {
      "needs_background": "light"
     },
     "output_type": "display_data"
    }
   ],
   "source": [
    "#Gr Liv Area is also higher correlated. Let's look\n",
    "plt.title('SalePrice vs Gr Liv Area')\n",
    "\n",
    "plt.scatter(home_train['Gr Liv Area'],\n",
    "            home_train['SalePrice'],\n",
    "            color = 'g', alpha = 0.5, label = 'Gr Liv Area')\n",
    "plt.xlabel('Gr Liv Area')\n",
    "plt.ylabel('SalePrice')\n",
    "plt.legend();"
   ]
  },
  {
   "cell_type": "markdown",
   "id": "74ef550e-57a0-4e43-a2c3-88b3a3e6cbc9",
   "metadata": {},
   "source": [
    "We can see that an increase in Garage Living Area gives and increase in Sales Price. Now we will make our X data with the columns that had a 0.6 or higher correlation, and our y data with the sales price"
   ]
  },
  {
   "cell_type": "code",
   "execution_count": 29,
   "id": "6f5b709d-d8ae-4e14-92ca-3008cf598587",
   "metadata": {},
   "outputs": [
    {
     "data": {
      "text/html": [
       "<div>\n",
       "<style scoped>\n",
       "    .dataframe tbody tr th:only-of-type {\n",
       "        vertical-align: middle;\n",
       "    }\n",
       "\n",
       "    .dataframe tbody tr th {\n",
       "        vertical-align: top;\n",
       "    }\n",
       "\n",
       "    .dataframe thead th {\n",
       "        text-align: right;\n",
       "    }\n",
       "</style>\n",
       "<table border=\"1\" class=\"dataframe\">\n",
       "  <thead>\n",
       "    <tr style=\"text-align: right;\">\n",
       "      <th></th>\n",
       "      <th>Overall Qual</th>\n",
       "      <th>Gr Liv Area</th>\n",
       "      <th>Garage Area</th>\n",
       "      <th>Total Bsmt SF</th>\n",
       "      <th>1st Flr SF</th>\n",
       "      <th>Exter Qual_TA</th>\n",
       "    </tr>\n",
       "  </thead>\n",
       "  <tbody>\n",
       "    <tr>\n",
       "      <th>0</th>\n",
       "      <td>6</td>\n",
       "      <td>1479</td>\n",
       "      <td>475.0</td>\n",
       "      <td>725.0</td>\n",
       "      <td>725</td>\n",
       "      <td>0</td>\n",
       "    </tr>\n",
       "    <tr>\n",
       "      <th>1</th>\n",
       "      <td>7</td>\n",
       "      <td>2122</td>\n",
       "      <td>559.0</td>\n",
       "      <td>913.0</td>\n",
       "      <td>913</td>\n",
       "      <td>0</td>\n",
       "    </tr>\n",
       "    <tr>\n",
       "      <th>2</th>\n",
       "      <td>5</td>\n",
       "      <td>1057</td>\n",
       "      <td>246.0</td>\n",
       "      <td>1057.0</td>\n",
       "      <td>1057</td>\n",
       "      <td>1</td>\n",
       "    </tr>\n",
       "    <tr>\n",
       "      <th>3</th>\n",
       "      <td>5</td>\n",
       "      <td>1444</td>\n",
       "      <td>400.0</td>\n",
       "      <td>384.0</td>\n",
       "      <td>744</td>\n",
       "      <td>1</td>\n",
       "    </tr>\n",
       "    <tr>\n",
       "      <th>4</th>\n",
       "      <td>6</td>\n",
       "      <td>1445</td>\n",
       "      <td>484.0</td>\n",
       "      <td>676.0</td>\n",
       "      <td>831</td>\n",
       "      <td>1</td>\n",
       "    </tr>\n",
       "  </tbody>\n",
       "</table>\n",
       "</div>"
      ],
      "text/plain": [
       "   Overall Qual  Gr Liv Area  Garage Area  Total Bsmt SF  1st Flr SF  \\\n",
       "0             6         1479        475.0          725.0         725   \n",
       "1             7         2122        559.0          913.0         913   \n",
       "2             5         1057        246.0         1057.0        1057   \n",
       "3             5         1444        400.0          384.0         744   \n",
       "4             6         1445        484.0          676.0         831   \n",
       "\n",
       "   Exter Qual_TA  \n",
       "0              0  \n",
       "1              0  \n",
       "2              1  \n",
       "3              1  \n",
       "4              1  "
      ]
     },
     "execution_count": 29,
     "metadata": {},
     "output_type": "execute_result"
    }
   ],
   "source": [
    "#The Only new column that absolute value of this that makes the 0.6 threshold is Exter Qual_TA\n",
    "xvars = ['Overall Qual', 'Gr Liv Area', 'Garage Area', 'Total Bsmt SF', '1st Flr SF', 'Exter Qual_TA']\n",
    "X = home_train[xvars]\n",
    "X.head()"
   ]
  },
  {
   "cell_type": "code",
   "execution_count": 30,
   "id": "5da549da-6132-4c7b-bc7e-a8e2fc367262",
   "metadata": {},
   "outputs": [
    {
     "data": {
      "text/plain": [
       "0    130500\n",
       "1    220000\n",
       "2    109000\n",
       "3    174000\n",
       "4    138500\n",
       "Name: SalePrice, dtype: int64"
      ]
     },
     "execution_count": 30,
     "metadata": {},
     "output_type": "execute_result"
    }
   ],
   "source": [
    "y = home_train['SalePrice']\n",
    "y.head()"
   ]
  },
  {
   "cell_type": "markdown",
   "id": "6054f859-7174-4a09-950b-612e50e92eef",
   "metadata": {},
   "source": [
    "We will make it a polynomial function, meaning that we make many new columns whose values are the columns we have times each other."
   ]
  },
  {
   "cell_type": "code",
   "execution_count": 31,
   "id": "f12c6d1b-1033-483f-8694-14841973dc34",
   "metadata": {},
   "outputs": [],
   "source": [
    "poly = PolynomialFeatures(include_bias = False, degree = 2)"
   ]
  },
  {
   "cell_type": "code",
   "execution_count": 32,
   "id": "e54ff0fa-05e9-4067-a60f-4e793f5414aa",
   "metadata": {},
   "outputs": [],
   "source": [
    "X_poly = poly.fit_transform(X)"
   ]
  },
  {
   "cell_type": "code",
   "execution_count": 34,
   "id": "4f4e5c80-0d48-4515-a38c-2243afc7303a",
   "metadata": {},
   "outputs": [],
   "source": [
    "poly = PolynomialFeatures(include_bias = False, degree=2)"
   ]
  },
  {
   "cell_type": "markdown",
   "id": "f290287d-6791-4e1c-95d1-251ea7a60897",
   "metadata": {},
   "source": [
    "We have to change the testing data to a polynomial fit in order for this to work"
   ]
  },
  {
   "cell_type": "code",
   "execution_count": 35,
   "id": "00e5b11e-4d7c-41be-9b46-a4e26ffa462d",
   "metadata": {},
   "outputs": [],
   "source": [
    "home_test_poly = poly.fit_transform(home_test[xvars])"
   ]
  },
  {
   "cell_type": "markdown",
   "id": "b4eade8a-843f-48b8-b7e3-8d10e57b82fa",
   "metadata": {},
   "source": [
    "Now it is time for our train test split"
   ]
  },
  {
   "cell_type": "code",
   "execution_count": 36,
   "id": "c201bec2-43c0-4f96-bb94-9512f09d0866",
   "metadata": {},
   "outputs": [],
   "source": [
    "X_train, X_test, y_train, y_test = train_test_split(X_poly, y, random_state=42)"
   ]
  },
  {
   "cell_type": "markdown",
   "id": "50ce4335-28a6-4c99-9b74-90d460f2eaeb",
   "metadata": {},
   "source": [
    "We will first use a linear regression model and see how well it fits the data"
   ]
  },
  {
   "cell_type": "code",
   "execution_count": 37,
   "id": "804b5f94-0c5c-4bd0-9e38-f8a525498d64",
   "metadata": {},
   "outputs": [],
   "source": [
    "lr = LinearRegression()"
   ]
  },
  {
   "cell_type": "code",
   "execution_count": 38,
   "id": "1883afec-d4e6-4657-9faf-13c2545a94ff",
   "metadata": {},
   "outputs": [
    {
     "data": {
      "text/plain": [
       "LinearRegression()"
      ]
     },
     "execution_count": 38,
     "metadata": {},
     "output_type": "execute_result"
    }
   ],
   "source": [
    "lr.fit(X_train, y_train)"
   ]
  },
  {
   "cell_type": "code",
   "execution_count": 39,
   "id": "b82774ab-5e3d-4ad7-b63d-e7392e7df06c",
   "metadata": {},
   "outputs": [],
   "source": [
    "prediction = lr.predict(home_test_poly)"
   ]
  },
  {
   "cell_type": "code",
   "execution_count": 40,
   "id": "ae715671-bad1-4bac-b043-1d57136c477f",
   "metadata": {},
   "outputs": [],
   "source": [
    "home_test['SalePrice'] = prediction"
   ]
  },
  {
   "cell_type": "markdown",
   "id": "6a1fb75f-0804-4855-ab71-042a13cee0c3",
   "metadata": {},
   "source": [
    "Let us look at our R2 score"
   ]
  },
  {
   "cell_type": "code",
   "execution_count": 41,
   "id": "1fc946f3-66f5-4dd6-b076-9e6388ea0e70",
   "metadata": {},
   "outputs": [
    {
     "name": "stdout",
     "output_type": "stream",
     "text": [
      "Training R2: 0.8589933055335499\n",
      "Testing R2: 0.879607496219049\n"
     ]
    }
   ],
   "source": [
    "print(f'Training R2: {lr.score(X_train, y_train)}')\n",
    "print(f'Testing R2: {lr.score(X_test, y_test)}')"
   ]
  },
  {
   "cell_type": "markdown",
   "id": "7e307870-9bcf-4f80-b09c-3ab8d339f95d",
   "metadata": {},
   "source": [
    "The R^2 scores show that although it is slightly underfit, it is a good model overall"
   ]
  },
  {
   "cell_type": "code",
   "execution_count": 42,
   "id": "6c50be4b-f5a3-4fe6-9d01-7ef51430861a",
   "metadata": {},
   "outputs": [
    {
     "data": {
      "text/plain": [
       "0.8219401785265875"
      ]
     },
     "execution_count": 42,
     "metadata": {},
     "output_type": "execute_result"
    }
   ],
   "source": [
    "cross_val_score(lr, X_train, y_train, cv = 3).mean()"
   ]
  },
  {
   "cell_type": "markdown",
   "id": "c45d3621-6094-410c-ad0e-b92dabe443e5",
   "metadata": {},
   "source": [
    " This shows that the model accounts for 82.1% of variation of the data. Now let's test for MSE"
   ]
  },
  {
   "cell_type": "code",
   "execution_count": 43,
   "id": "d0b9c2b3-d552-4921-8568-d61a1120c8cf",
   "metadata": {},
   "outputs": [
    {
     "data": {
      "text/plain": [
       "781059142.45874"
      ]
     },
     "execution_count": 43,
     "metadata": {},
     "output_type": "execute_result"
    }
   ],
   "source": [
    "#MSE\n",
    "y_hat = lr.predict(X_test)\n",
    "metrics.mean_squared_error(y_test, y_hat) #x_test for y_pred"
   ]
  },
  {
   "cell_type": "markdown",
   "id": "1210dad6-5c42-4bcd-b6c8-d7f8c5a288b2",
   "metadata": {},
   "source": [
    "The mean squared error seems rather high"
   ]
  },
  {
   "cell_type": "code",
   "execution_count": 44,
   "id": "fc8781e1-b151-4485-bac5-f072206722b7",
   "metadata": {},
   "outputs": [],
   "source": [
    "lr_submission = home_test[['Id', 'SalePrice']]"
   ]
  },
  {
   "cell_type": "code",
   "execution_count": 45,
   "id": "2dedb2f7-8dfc-4ae5-8612-c7a9be5dc7c7",
   "metadata": {},
   "outputs": [
    {
     "data": {
      "text/html": [
       "<div>\n",
       "<style scoped>\n",
       "    .dataframe tbody tr th:only-of-type {\n",
       "        vertical-align: middle;\n",
       "    }\n",
       "\n",
       "    .dataframe tbody tr th {\n",
       "        vertical-align: top;\n",
       "    }\n",
       "\n",
       "    .dataframe thead th {\n",
       "        text-align: right;\n",
       "    }\n",
       "</style>\n",
       "<table border=\"1\" class=\"dataframe\">\n",
       "  <thead>\n",
       "    <tr style=\"text-align: right;\">\n",
       "      <th></th>\n",
       "      <th>Id</th>\n",
       "      <th>SalePrice</th>\n",
       "    </tr>\n",
       "  </thead>\n",
       "  <tbody>\n",
       "    <tr>\n",
       "      <th>0</th>\n",
       "      <td>2658</td>\n",
       "      <td>196809.987067</td>\n",
       "    </tr>\n",
       "    <tr>\n",
       "      <th>1</th>\n",
       "      <td>2718</td>\n",
       "      <td>155217.865393</td>\n",
       "    </tr>\n",
       "    <tr>\n",
       "      <th>2</th>\n",
       "      <td>2414</td>\n",
       "      <td>164018.329643</td>\n",
       "    </tr>\n",
       "    <tr>\n",
       "      <th>3</th>\n",
       "      <td>1989</td>\n",
       "      <td>120833.763933</td>\n",
       "    </tr>\n",
       "    <tr>\n",
       "      <th>4</th>\n",
       "      <td>625</td>\n",
       "      <td>181679.021178</td>\n",
       "    </tr>\n",
       "  </tbody>\n",
       "</table>\n",
       "</div>"
      ],
      "text/plain": [
       "     Id      SalePrice\n",
       "0  2658  196809.987067\n",
       "1  2718  155217.865393\n",
       "2  2414  164018.329643\n",
       "3  1989  120833.763933\n",
       "4   625  181679.021178"
      ]
     },
     "execution_count": 45,
     "metadata": {},
     "output_type": "execute_result"
    }
   ],
   "source": [
    "lr_submission.head()"
   ]
  },
  {
   "cell_type": "code",
   "execution_count": 46,
   "id": "bc0249e7-8c0b-4d54-99ee-0a20b2445858",
   "metadata": {},
   "outputs": [],
   "source": [
    "#lr_submission.to_csv('kaggle/6_14_submission_try1.csv')"
   ]
  },
  {
   "cell_type": "markdown",
   "id": "ab8e68a3-a75d-464b-a3bc-9e053888be07",
   "metadata": {},
   "source": [
    "Let's try to improve with OSL. We first need a standard scaler we will call Z"
   ]
  },
  {
   "cell_type": "code",
   "execution_count": 47,
   "id": "00446728-9de8-407c-b12f-c3e694322a17",
   "metadata": {},
   "outputs": [],
   "source": [
    "#took from lesson 4.03\n",
    "ss = StandardScaler()\n",
    "Z_train = ss.fit_transform(X_train)\n",
    "Z_test = ss.transform(X_test)\n",
    "#scale y data\n",
    "y_train_array = y_train.to_numpy()\n",
    "y_test_array = y_test.to_numpy()\n",
    "y_train_reshape = y_train_array.reshape(1, -1)\n",
    "y_test_reshape = y_test_array.reshape(1, -1)\n",
    "y_train_ss = ss.fit_transform(y_train_reshape)\n",
    "y_test_ss = ss.fit_transform(y_test_reshape)"
   ]
  },
  {
   "cell_type": "code",
   "execution_count": 48,
   "id": "7139ba61-705c-4d5e-aa1b-baf0400fcd89",
   "metadata": {},
   "outputs": [
    {
     "data": {
      "text/plain": [
       "LinearRegression()"
      ]
     },
     "execution_count": 48,
     "metadata": {},
     "output_type": "execute_result"
    }
   ],
   "source": [
    "ols = LinearRegression()\n",
    "ols.fit(Z_train, y_train)"
   ]
  },
  {
   "cell_type": "code",
   "execution_count": 49,
   "id": "00a768ce-69b5-4465-98f4-701df18c78b5",
   "metadata": {},
   "outputs": [
    {
     "name": "stdout",
     "output_type": "stream",
     "text": [
      "Training Score: 0.8589933055335499\n",
      "Testing Score: 0.8796074962187521\n"
     ]
    }
   ],
   "source": [
    "print(f'Training Score: {ols.score(Z_train, y_train)}')\n",
    "print(f'Testing Score: {ols.score(Z_test, y_test)}')"
   ]
  },
  {
   "cell_type": "markdown",
   "id": "2c720c9b-5040-42fb-94a5-370181b67868",
   "metadata": {},
   "source": [
    "Standardizing the data doesn't have an impact on the R2 score because it just scales the data down. But we can use this to test our rigde model"
   ]
  },
  {
   "cell_type": "code",
   "execution_count": 50,
   "id": "a3a41ac7-22d1-49cb-be8b-40e626ebea4e",
   "metadata": {},
   "outputs": [
    {
     "name": "stdout",
     "output_type": "stream",
     "text": [
      "Training score: 0.8581281624074523\n",
      "Test score: 0.8814058035012804\n"
     ]
    }
   ],
   "source": [
    "#took from lesson 4.03\n",
    "#seems like there is no change. But that's why we need the ridge\n",
    "from sklearn.linear_model import Ridge\n",
    "# Instantiate.\n",
    "ridge = Ridge()\n",
    "# Fit.\n",
    "ridge.fit(Z_train, y_train)\n",
    "# Evaluate model using R2.\n",
    "print(f'Training score: {ridge.score(Z_train, y_train)}')\n",
    "print(f'Test score: {ridge.score(Z_test, y_test)}')"
   ]
  },
  {
   "cell_type": "code",
   "execution_count": 51,
   "id": "75433858-6795-46eb-a904-90c859e8c01a",
   "metadata": {},
   "outputs": [
    {
     "data": {
      "text/plain": [
       "769392433.1568675"
      ]
     },
     "execution_count": 51,
     "metadata": {},
     "output_type": "execute_result"
    }
   ],
   "source": [
    "#MSE\n",
    "y_hat = ridge.predict(Z_test)\n",
    "metrics.mean_squared_error(y_test, y_hat) #x_test for y_pred"
   ]
  },
  {
   "cell_type": "markdown",
   "id": "bc858747-acbd-4f65-97a4-6ff436a003a5",
   "metadata": {},
   "source": [
    "The ridge model model by default (alpha = 1) is a bit underfit and slightly worse than our linear regression model. Let's check for alpha = 70, 7, and 0.7. "
   ]
  },
  {
   "cell_type": "code",
   "execution_count": 52,
   "id": "ff6aeb92-5440-4d33-a156-9ef154bb9c2e",
   "metadata": {},
   "outputs": [
    {
     "name": "stdout",
     "output_type": "stream",
     "text": [
      "Training score: 0.8415758489040945\n",
      "Test score: 0.871685875113444\n"
     ]
    }
   ],
   "source": [
    "#took from lesson 4.03\n",
    "#We see some potential improvement. But let us increase the alpha on the ridge\n",
    "# Instantiate.\n",
    "ridge = Ridge(alpha=70)\n",
    "# Fit.\n",
    "ridge.fit(Z_train, y_train)\n",
    "# Evaluate model using R2.\n",
    "print(f'Training score: {ridge.score(Z_train, y_train)}')\n",
    "print(f'Test score: {ridge.score(Z_test, y_test)}')"
   ]
  },
  {
   "cell_type": "code",
   "execution_count": 53,
   "id": "c8341475-28fb-4047-8d3f-ab4c1a6a465b",
   "metadata": {},
   "outputs": [
    {
     "data": {
      "text/plain": [
       "832451499.9005653"
      ]
     },
     "execution_count": 53,
     "metadata": {},
     "output_type": "execute_result"
    }
   ],
   "source": [
    "#MSE\n",
    "y_hat = ridge.predict(Z_test)\n",
    "metrics.mean_squared_error(y_test, y_hat) #x_test for y_pred"
   ]
  },
  {
   "cell_type": "code",
   "execution_count": 54,
   "id": "c39c8e4f-b4ca-4650-9d1e-49073d0b0ee1",
   "metadata": {},
   "outputs": [
    {
     "name": "stdout",
     "output_type": "stream",
     "text": [
      "Training score: 0.8549947889944515\n",
      "Test score: 0.8816455395770768\n"
     ]
    }
   ],
   "source": [
    "#took from lesson 4.03\n",
    "#We see some potential improvement. But let us increase the alpha on the ridge\n",
    "# Instantiate.\n",
    "ridge = Ridge(alpha=7)\n",
    "# Fit.\n",
    "ridge.fit(Z_train, y_train)\n",
    "# Evaluate model using R2.\n",
    "print(f'Training score: {ridge.score(Z_train, y_train)}')\n",
    "print(f'Test score: {ridge.score(Z_test, y_test)}')"
   ]
  },
  {
   "cell_type": "code",
   "execution_count": 55,
   "id": "fd12fd78-dbeb-4284-a6b3-a6de46d4a097",
   "metadata": {},
   "outputs": [
    {
     "data": {
      "text/plain": [
       "767837119.928075"
      ]
     },
     "execution_count": 55,
     "metadata": {},
     "output_type": "execute_result"
    }
   ],
   "source": [
    "#MSE\n",
    "y_hat = ridge.predict(Z_test)\n",
    "metrics.mean_squared_error(y_test, y_hat) #x_test for y_pred"
   ]
  },
  {
   "cell_type": "code",
   "execution_count": 56,
   "id": "8ef1d2f1-4353-4416-b15f-483c4bba7cee",
   "metadata": {},
   "outputs": [
    {
     "name": "stdout",
     "output_type": "stream",
     "text": [
      "Training score: 0.858425922565679\n",
      "Test score: 0.8811540055089854\n"
     ]
    }
   ],
   "source": [
    "#took from lesson 4.03\n",
    "#We see some potential improvement. But let us increase the alpha on the ridge\n",
    "# Instantiate.\n",
    "ridge = Ridge(alpha=0.7)\n",
    "# Fit.\n",
    "ridge.fit(Z_train, y_train)\n",
    "# Evaluate model using R2.\n",
    "print(f'Training score: {ridge.score(Z_train, y_train)}')\n",
    "print(f'Test score: {ridge.score(Z_test, y_test)}')"
   ]
  },
  {
   "cell_type": "code",
   "execution_count": 57,
   "id": "a0ab0732-f95e-4f55-bf74-66353a7287d7",
   "metadata": {},
   "outputs": [
    {
     "data": {
      "text/plain": [
       "771025999.348768"
      ]
     },
     "execution_count": 57,
     "metadata": {},
     "output_type": "execute_result"
    }
   ],
   "source": [
    "#MSE\n",
    "y_hat = ridge.predict(Z_test)\n",
    "metrics.mean_squared_error(y_test, y_hat) #x_test for y_pred"
   ]
  },
  {
   "cell_type": "markdown",
   "id": "6123fd4f-7947-4004-9840-cadc46b093ab",
   "metadata": {},
   "source": [
    "Out of all these, the alpha = 70 is the worst and the others are roughly the same. Regardless they are all worse than the linear regression model."
   ]
  },
  {
   "cell_type": "code",
   "execution_count": 65,
   "id": "1bfe81e8-9153-4634-af02-18005f4b52b5",
   "metadata": {},
   "outputs": [
    {
     "name": "stderr",
     "output_type": "stream",
     "text": [
      "C:\\Users\\matth\\anaconda3\\lib\\site-packages\\sklearn\\linear_model\\_ridge.py:147: LinAlgWarning: Ill-conditioned matrix (rcond=2.83356e-17): result may not be accurate.\n",
      "  return linalg.solve(A, Xy, sym_pos=True,\n"
     ]
    }
   ],
   "source": [
    "ridge.fit(X_train, y_train)\n",
    "prediction = ridge.predict(home_test_poly)"
   ]
  },
  {
   "cell_type": "code",
   "execution_count": 66,
   "id": "5b1cfe76-f33d-454a-8478-bee30ed1b162",
   "metadata": {},
   "outputs": [],
   "source": [
    "home_test['SalePrice'] = prediction"
   ]
  },
  {
   "cell_type": "code",
   "execution_count": 67,
   "id": "1afeda39-91a3-429e-a4e1-4c0f02f92c1a",
   "metadata": {},
   "outputs": [],
   "source": [
    "lr_submission = home_test[['Id', 'SalePrice']]"
   ]
  },
  {
   "cell_type": "code",
   "execution_count": 68,
   "id": "5ceb20d1-2f44-4e59-bc68-8534e26385f1",
   "metadata": {},
   "outputs": [
    {
     "data": {
      "text/html": [
       "<div>\n",
       "<style scoped>\n",
       "    .dataframe tbody tr th:only-of-type {\n",
       "        vertical-align: middle;\n",
       "    }\n",
       "\n",
       "    .dataframe tbody tr th {\n",
       "        vertical-align: top;\n",
       "    }\n",
       "\n",
       "    .dataframe thead th {\n",
       "        text-align: right;\n",
       "    }\n",
       "</style>\n",
       "<table border=\"1\" class=\"dataframe\">\n",
       "  <thead>\n",
       "    <tr style=\"text-align: right;\">\n",
       "      <th></th>\n",
       "      <th>Id</th>\n",
       "      <th>SalePrice</th>\n",
       "    </tr>\n",
       "  </thead>\n",
       "  <tbody>\n",
       "    <tr>\n",
       "      <th>0</th>\n",
       "      <td>2658</td>\n",
       "      <td>196810.512669</td>\n",
       "    </tr>\n",
       "    <tr>\n",
       "      <th>1</th>\n",
       "      <td>2718</td>\n",
       "      <td>155163.009970</td>\n",
       "    </tr>\n",
       "    <tr>\n",
       "      <th>2</th>\n",
       "      <td>2414</td>\n",
       "      <td>164039.235073</td>\n",
       "    </tr>\n",
       "    <tr>\n",
       "      <th>3</th>\n",
       "      <td>1989</td>\n",
       "      <td>121301.075678</td>\n",
       "    </tr>\n",
       "    <tr>\n",
       "      <th>4</th>\n",
       "      <td>625</td>\n",
       "      <td>181753.474523</td>\n",
       "    </tr>\n",
       "  </tbody>\n",
       "</table>\n",
       "</div>"
      ],
      "text/plain": [
       "     Id      SalePrice\n",
       "0  2658  196810.512669\n",
       "1  2718  155163.009970\n",
       "2  2414  164039.235073\n",
       "3  1989  121301.075678\n",
       "4   625  181753.474523"
      ]
     },
     "execution_count": 68,
     "metadata": {},
     "output_type": "execute_result"
    }
   ],
   "source": [
    "lr_submission.head()"
   ]
  },
  {
   "cell_type": "markdown",
   "id": "b21d2144-9dcf-4ff4-a9b8-fd5f0ab52944",
   "metadata": {},
   "source": [
    "We can see that ridge is a fairly good model"
   ]
  },
  {
   "cell_type": "code",
   "execution_count": 69,
   "id": "5d2a505c-890a-4190-95ad-fc32c0483db1",
   "metadata": {},
   "outputs": [],
   "source": [
    "#lr_submission.to_csv('kaggle/6_16_submission_try1.csv')"
   ]
  },
  {
   "cell_type": "markdown",
   "id": "c38f3b02-1c3d-4f46-ad07-f94c656352b3",
   "metadata": {},
   "source": [
    "Now that we tried ridge lets try lasso. We will check all the alpha whole numbers between -100 and 100 to try to find the best one"
   ]
  },
  {
   "cell_type": "code",
   "execution_count": 70,
   "id": "14fa99eb-e93d-4084-8353-d3540efb1d32",
   "metadata": {},
   "outputs": [],
   "source": [
    "#this did not improve our score. But what about lasso?\n",
    "from sklearn.linear_model import Lasso, LassoCV"
   ]
  },
  {
   "cell_type": "code",
   "execution_count": 71,
   "id": "7dc83f32-28e8-474f-884e-f3e0fe4b9120",
   "metadata": {
    "scrolled": true,
    "tags": []
   },
   "outputs": [
    {
     "data": {
      "text/plain": [
       "LassoCV(alphas=array([1.00000000e-100, 1.01163798e-099, 1.02341140e-098, 1.03532184e-097,\n",
       "       1.04737090e-096, 1.05956018e-095, 1.07189132e-094, 1.08436597e-093,\n",
       "       1.09698580e-092, 1.10975250e-091, 1.12266777e-090, 1.13573336e-089,\n",
       "       1.14895100e-088, 1.16232247e-087, 1.17584955e-086, 1.18953407e-085,\n",
       "       1.20337784e-084, 1.21738273e-083, 1.23155060e-082, 1.24588336e-081,\n",
       "       1.260382...\n",
       "       7.66341087e+076, 7.75259749e+077, 7.84282206e+078, 7.93409667e+079,\n",
       "       8.02643352e+080, 8.11984499e+081, 8.21434358e+082, 8.30994195e+083,\n",
       "       8.40665289e+084, 8.50448934e+085, 8.60346442e+086, 8.70359136e+087,\n",
       "       8.80488358e+088, 8.90735464e+089, 9.01101825e+090, 9.11588830e+091,\n",
       "       9.22197882e+092, 9.32930403e+093, 9.43787828e+094, 9.54771611e+095,\n",
       "       9.65883224e+096, 9.77124154e+097, 9.88495905e+098, 1.00000000e+100]))"
      ]
     },
     "execution_count": 71,
     "metadata": {},
     "output_type": "execute_result"
    }
   ],
   "source": [
    "#took from lesson 4.03\n",
    "\n",
    "#Ran this before, got a convergence warning.\n",
    "#Code below is to surpress warnings\n",
    "import warnings\n",
    "warnings.filterwarnings('ignore')\n",
    "\n",
    "# Set up a list of Lasso alphas to check.\n",
    "l_alphas = np.logspace(-100, 100, 200)\n",
    "# Cross-validate over our list of Lasso alphas.\n",
    "lasso_cv = LassoCV(alphas = l_alphas)\n",
    "# Fit model using best ridge alpha!\n",
    "lasso_cv.fit(X_train, y_train)"
   ]
  },
  {
   "cell_type": "code",
   "execution_count": 72,
   "id": "427a4ec7-4f9e-4651-8f98-b07b2c4ae2ed",
   "metadata": {},
   "outputs": [
    {
     "data": {
      "text/plain": [
       "32.17641750250643"
      ]
     },
     "execution_count": 72,
     "metadata": {},
     "output_type": "execute_result"
    }
   ],
   "source": [
    "# Here is the optimal value of alpha\n",
    "lasso_cv.alpha_"
   ]
  },
  {
   "cell_type": "code",
   "execution_count": 73,
   "id": "8a66b00a-e271-49dd-bea6-b3dc10e0e2e6",
   "metadata": {},
   "outputs": [
    {
     "name": "stdout",
     "output_type": "stream",
     "text": [
      "0.8585999704411377\n",
      "0.8790702193140761\n"
     ]
    }
   ],
   "source": [
    "print(lasso_cv.score(X_train, y_train))\n",
    "print(lasso_cv.score(X_test, y_test))"
   ]
  },
  {
   "cell_type": "code",
   "execution_count": 74,
   "id": "2fc7ce83-f010-4014-8047-8f566a338fff",
   "metadata": {},
   "outputs": [
    {
     "data": {
      "text/plain": [
       "784544783.3872198"
      ]
     },
     "execution_count": 74,
     "metadata": {},
     "output_type": "execute_result"
    }
   ],
   "source": [
    "#MSE\n",
    "y_hat = lasso_cv.predict(X_test)\n",
    "metrics.mean_squared_error(y_test, y_hat) #x_test for y_pred"
   ]
  },
  {
   "cell_type": "markdown",
   "id": "de46b7e2-851a-49dd-be5f-cab70c6ac40c",
   "metadata": {},
   "source": [
    "We can see that the lasso value is as about good as the ridge values. But what if we introduce polynomials?"
   ]
  },
  {
   "cell_type": "code",
   "execution_count": 75,
   "id": "be469121-9a43-4c22-afb8-1945a9cbb0d5",
   "metadata": {},
   "outputs": [
    {
     "data": {
      "text/plain": [
       "PolynomialFeatures(include_bias=False)"
      ]
     },
     "execution_count": 75,
     "metadata": {},
     "output_type": "execute_result"
    }
   ],
   "source": [
    "poly"
   ]
  },
  {
   "cell_type": "code",
   "execution_count": 76,
   "id": "1d7090ca-926d-4720-ad8a-b5787f8ec4c0",
   "metadata": {},
   "outputs": [],
   "source": [
    "#took from lesson 4.03\n",
    "lasso_coefs = pd.Series(lasso_cv.coef_, poly.get_feature_names(X.columns))"
   ]
  },
  {
   "cell_type": "code",
   "execution_count": 77,
   "id": "6bed1c75-9c0b-4273-9762-f5a3b43d74ab",
   "metadata": {},
   "outputs": [
    {
     "data": {
      "text/plain": [
       "Exter Qual_TA^2                25256.623889\n",
       "Exter Qual_TA                  16717.077383\n",
       "Overall Qual                    3286.625461\n",
       "1st Flr SF                        63.568497\n",
       "Gr Liv Area                       25.760420\n",
       "Overall Qual Total Bsmt SF        21.604552\n",
       "Garage Area Exter Qual_TA         20.588342\n",
       "Overall Qual Garage Area          19.520546\n",
       "Overall Qual Gr Liv Area          13.216269\n",
       "Total Bsmt SF Exter Qual_TA        2.859828\n",
       "Overall Qual 1st Flr SF            1.854399\n",
       "1st Flr SF^2                       0.044556\n",
       "Gr Liv Area Garage Area            0.025453\n",
       "Gr Liv Area Total Bsmt SF          0.008090\n",
       "Gr Liv Area^2                      0.006910\n",
       "Garage Area Total Bsmt SF         -0.004490\n",
       "Total Bsmt SF^2                   -0.018131\n",
       "Garage Area 1st Flr SF            -0.019336\n",
       "Total Bsmt SF 1st Flr SF          -0.026077\n",
       "Garage Area^2                     -0.032205\n",
       "Gr Liv Area 1st Flr SF            -0.080471\n",
       "1st Flr SF Exter Qual_TA         -11.203907\n",
       "Gr Liv Area Exter Qual_TA        -11.330241\n",
       "Total Bsmt SF                    -37.574749\n",
       "Garage Area                      -68.781015\n",
       "Overall Qual^2                 -2902.808342\n",
       "Overall Qual Exter Qual_TA     -5384.068120\n",
       "dtype: float64"
      ]
     },
     "execution_count": 77,
     "metadata": {},
     "output_type": "execute_result"
    }
   ],
   "source": [
    "#took from lesson 4.03\n",
    "lasso_coefs[lasso_coefs != 0].sort_values(ascending = False)"
   ]
  },
  {
   "cell_type": "code",
   "execution_count": 78,
   "id": "aceca287-fca1-401b-b495-42fd9c79a710",
   "metadata": {},
   "outputs": [],
   "source": [
    "prediction = lasso_cv.predict(home_test_poly)"
   ]
  },
  {
   "cell_type": "code",
   "execution_count": 79,
   "id": "266e0812-c4c7-4858-bfed-b677287a218a",
   "metadata": {},
   "outputs": [],
   "source": [
    "home_test['SalePrice'] = prediction"
   ]
  },
  {
   "cell_type": "code",
   "execution_count": 80,
   "id": "2581c372-8dc1-4727-9698-7c71e5eb77d5",
   "metadata": {},
   "outputs": [],
   "source": [
    "lr_submission = home_test[['Id', 'SalePrice']]"
   ]
  },
  {
   "cell_type": "code",
   "execution_count": 81,
   "id": "26b92de0-b5fc-44bc-b60e-4ce839d576aa",
   "metadata": {},
   "outputs": [
    {
     "data": {
      "text/html": [
       "<div>\n",
       "<style scoped>\n",
       "    .dataframe tbody tr th:only-of-type {\n",
       "        vertical-align: middle;\n",
       "    }\n",
       "\n",
       "    .dataframe tbody tr th {\n",
       "        vertical-align: top;\n",
       "    }\n",
       "\n",
       "    .dataframe thead th {\n",
       "        text-align: right;\n",
       "    }\n",
       "</style>\n",
       "<table border=\"1\" class=\"dataframe\">\n",
       "  <thead>\n",
       "    <tr style=\"text-align: right;\">\n",
       "      <th></th>\n",
       "      <th>Id</th>\n",
       "      <th>SalePrice</th>\n",
       "    </tr>\n",
       "  </thead>\n",
       "  <tbody>\n",
       "    <tr>\n",
       "      <th>0</th>\n",
       "      <td>2658</td>\n",
       "      <td>195067.321349</td>\n",
       "    </tr>\n",
       "    <tr>\n",
       "      <th>1</th>\n",
       "      <td>2718</td>\n",
       "      <td>155055.624315</td>\n",
       "    </tr>\n",
       "    <tr>\n",
       "      <th>2</th>\n",
       "      <td>2414</td>\n",
       "      <td>164067.558150</td>\n",
       "    </tr>\n",
       "    <tr>\n",
       "      <th>3</th>\n",
       "      <td>1989</td>\n",
       "      <td>122241.187697</td>\n",
       "    </tr>\n",
       "    <tr>\n",
       "      <th>4</th>\n",
       "      <td>625</td>\n",
       "      <td>182520.838388</td>\n",
       "    </tr>\n",
       "  </tbody>\n",
       "</table>\n",
       "</div>"
      ],
      "text/plain": [
       "     Id      SalePrice\n",
       "0  2658  195067.321349\n",
       "1  2718  155055.624315\n",
       "2  2414  164067.558150\n",
       "3  1989  122241.187697\n",
       "4   625  182520.838388"
      ]
     },
     "execution_count": 81,
     "metadata": {},
     "output_type": "execute_result"
    }
   ],
   "source": [
    "lr_submission.head()"
   ]
  },
  {
   "cell_type": "markdown",
   "id": "659f38ba-cd78-46da-b3c7-55c01b1daaa6",
   "metadata": {},
   "source": [
    "This shows that the lasso can be a good model to use"
   ]
  },
  {
   "cell_type": "code",
   "execution_count": 82,
   "id": "cc226596-346e-403f-909c-1bbf7941f9a1",
   "metadata": {},
   "outputs": [],
   "source": [
    "#lr_submission.to_csv('kaggle/6_16_submission_try2.csv')"
   ]
  },
  {
   "cell_type": "markdown",
   "id": "59b92017-138c-4c3e-80ae-4196c4a75e1c",
   "metadata": {},
   "source": [
    "## Conclusion"
   ]
  },
  {
   "cell_type": "markdown",
   "id": "f38cab9d-63ff-4e20-8a24-4e3c9833e754",
   "metadata": {},
   "source": [
    "We see that the best model to use for the data is a linear regression model. It accounts for around 82.1% of the variation of the data. Lasso and ridge also work fine. But I would go with linear regession at the end of the day."
   ]
  },
  {
   "cell_type": "code",
   "execution_count": null,
   "id": "8543b804-bf9c-453b-af2e-d21de1887d26",
   "metadata": {},
   "outputs": [],
   "source": []
  }
 ],
 "metadata": {
  "kernelspec": {
   "display_name": "Python 3 (ipykernel)",
   "language": "python",
   "name": "python3"
  },
  "language_info": {
   "codemirror_mode": {
    "name": "ipython",
    "version": 3
   },
   "file_extension": ".py",
   "mimetype": "text/x-python",
   "name": "python",
   "nbconvert_exporter": "python",
   "pygments_lexer": "ipython3",
   "version": "3.9.7"
  }
 },
 "nbformat": 4,
 "nbformat_minor": 5
}
